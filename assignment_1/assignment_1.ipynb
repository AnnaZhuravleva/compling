{
 "cells": [
  {
   "cell_type": "markdown",
   "metadata": {},
   "source": [
    "# Assignment 1\n",
    "\n",
    "Using text http://www.gutenberg.org/files/2600/2600-0.txt\n",
    "1. Make text lowercase and remove all punctuation except spaces and dots.\n",
    "2. Tokenize text by BPE with vocab_size = 100\n",
    "3. Train 3-gram language model with laplace smoothing $\\delta=1$\n",
    "4. Using beam search with k=10 generate sequences of length=10 conditioned on provided inputs. Treat dots as terminal tokens.\n",
    "5. Calculate perplexity of the language model for the first sentence."
   ]
  },
  {
   "cell_type": "code",
   "execution_count": null,
   "metadata": {},
   "outputs": [],
   "source": [
    "import string\n",
    "import re\n",
    "import collections\n",
    "from collections import Counter\n",
    "import nltk\n",
    "from sklearn.base import TransformerMixin\n",
    "import numpy as np"
   ]
  },
  {
   "cell_type": "code",
   "execution_count": 1,
   "metadata": {},
   "outputs": [
    {
     "data": {
      "text/plain": [
       "3227580"
      ]
     },
     "execution_count": 1,
     "metadata": {},
     "output_type": "execute_result"
    }
   ],
   "source": [
    "text = open('peace.txt', 'r', encoding='utf-8-sig').read()\n",
    "len(text)"
   ]
  },
  {
   "cell_type": "code",
   "execution_count": 2,
   "metadata": {},
   "outputs": [
    {
     "data": {
      "text/plain": [
       "3130569"
      ]
     },
     "execution_count": 2,
     "metadata": {},
     "output_type": "execute_result"
    }
   ],
   "source": [
    "def preprocess_text(text):\n",
    "    punct = list(set(re.findall('\\W', text)))\n",
    "    punct.remove('.')\n",
    "    words = ''\n",
    "    for word in text.split():\n",
    "        for letter in word:\n",
    "            if letter not in punct:\n",
    "                words += letter\n",
    "        words += ' '\n",
    "    text = words.lower()\n",
    "        \n",
    "    # replace all punctuation except dots with spaces\n",
    "    # collapse multiple spaces into one '   ' -> ' '\n",
    "    return text\n",
    "\n",
    "\n",
    "text = preprocess_text(text)\n",
    "len(text)\n",
    "# assert len(text) == 3141169"
   ]
  },
  {
   "cell_type": "code",
   "execution_count": 3,
   "metadata": {},
   "outputs": [],
   "source": [
    "text = text.split('.')\n",
    "text = [x.strip() for x in text]"
   ]
  },
  {
   "cell_type": "code",
   "execution_count": 5,
   "metadata": {
    "scrolled": true
   },
   "outputs": [],
   "source": [
    "class BPE(TransformerMixin):\n",
    "    def __init__(self, vocab_size=100):\n",
    "        super(BPE, self).__init__()\n",
    "        self.vocab_size = vocab_size\n",
    "        # index to token\n",
    "        self.itos = []\n",
    "        # token to index\n",
    "        self.stoi = {}\n",
    "        \n",
    "    def fit(self, text):\n",
    "        \"\"\"\n",
    "        fit itos and stoi\n",
    "        text: list of strings \n",
    "        \"\"\"\n",
    "        \n",
    "        # TODO\n",
    "        # tokenize text by symbols and fill in self.itos and self.stoi\n",
    "        self.itos = list(set([item for txt in text for item in set(txt)]))\n",
    "        self.stoi = {l: idx for idx, l in enumerate(self.itos)}\n",
    "        text = [[self.stoi[letter] for letter in txt] for txt in text]\n",
    "        \n",
    "        while len(self.itos) < self.vocab_size:\n",
    "            # TODO\n",
    "            # count bigram freqencies in the text\n",
    "            bigrams = collections.Counter()\n",
    "            for txt in text:\n",
    "                i = 0\n",
    "                while i + 1 < len(txt):\n",
    "                    bigrams[(txt[i], txt[i+1])] += 1\n",
    "                    i += 1\n",
    "                \n",
    "                \n",
    "            mc = bigrams.most_common(1)[0][0]\n",
    "            new_token = str(self.itos[int(mc[0])]) + str(self.itos[int(mc[1])])\n",
    "            new_id = len(self.itos)\n",
    "            \n",
    "            self.itos.append(new_token)\n",
    "            self.stoi[new_token] = new_id\n",
    "            \n",
    "            # find occurences of the new_token in the text and replace them with new_id\n",
    "            tmp = []\n",
    "            for txt in text:\n",
    "                tmp2 = []\n",
    "                i = 0\n",
    "                while i + 1 < len(txt):\n",
    "                    if new_token == self.itos[txt[i]] + self.itos[txt[i+1]]:\n",
    "                        tmp2.append(new_id)\n",
    "                        i += 2\n",
    "                    else:\n",
    "                        tmp2.append(txt[i])\n",
    "                        i += 1\n",
    "                tmp.append(tmp2)\n",
    "                    \n",
    "            text = tmp \n",
    "           \n",
    "        return self\n",
    "    \n",
    "    def transform(self, text):\n",
    "        \"\"\"\n",
    "        convert text to a sequence of token ids\n",
    "        text: list of strings\n",
    "        \"\"\" \n",
    "        max_size = max([len(tok) for tok in self.itos])\n",
    "        \n",
    "        new_text = []\n",
    "        for txt in text:\n",
    "            i = 0\n",
    "            new_txt = []\n",
    "            while i < len(txt):\n",
    "                hit = False\n",
    "                stop = i+max_size if len(txt) - (i + max_size) >= 0 else len(txt)\n",
    "                while hit == False and stop > i:\n",
    "                    if txt[i:stop] in self.itos:\n",
    "                        new_txt.append(self.stoi[txt[i:stop]])\n",
    "                        hit = True\n",
    "                        i = stop\n",
    "                    else:\n",
    "                        stop -= 1\n",
    "            new_text.append(new_txt)\n",
    "                                \n",
    "        text = new_text\n",
    "       # for token_id, token in enumerate(self.itos):\n",
    "            # find occurences of the token in the text and replace them with token_id\n",
    "          #  text = # TODO       \n",
    "        return text\n",
    "    \n",
    "    def decode_token(self, tok):\n",
    "        \"\"\"\n",
    "        tok: int or tuple\n",
    "        \"\"\"\n",
    "        result = self.itos[tok] if isinstance(tok, int) else [self.itos[i] for i in token]\n",
    "        return result\n",
    "            \n",
    "    def decode(self, text):\n",
    "        \"\"\"\n",
    "        convert token ids into text\n",
    "        \"\"\"\n",
    "        return ''.join(map(self.decode_token, text))\n",
    "        \n",
    "        \n",
    "vocab_size = 100\n",
    "bpe = BPE(vocab_size)\n",
    "tokenized_text = bpe.fit_transform(text)"
   ]
  },
  {
   "cell_type": "code",
   "execution_count": 6,
   "metadata": {},
   "outputs": [],
   "source": [
    "assert bpe.decode(tokenized_text[0]) == text[0]"
   ]
  },
  {
   "cell_type": "code",
   "execution_count": 7,
   "metadata": {},
   "outputs": [
    {
     "data": {
      "text/plain": [
       "'the project gutenberg ebook of war and peace by leo tolstoy this ebook is for the use of anyone anywhere at no cost and with almost no restrictions whatsoever'"
      ]
     },
     "execution_count": 7,
     "metadata": {},
     "output_type": "execute_result"
    }
   ],
   "source": [
    "bpe.decode(tokenized_text[0]) "
   ]
  },
  {
   "cell_type": "code",
   "execution_count": 8,
   "metadata": {},
   "outputs": [
    {
     "data": {
      "text/plain": [
       "'the project gutenberg ebook of war and peace by leo tolstoy this ebook is for the use of anyone anywhere at no cost and with almost no restrictions whatsoever'"
      ]
     },
     "execution_count": 8,
     "metadata": {},
     "output_type": "execute_result"
    }
   ],
   "source": [
    "text[0]"
   ]
  },
  {
   "cell_type": "code",
   "execution_count": 9,
   "metadata": {},
   "outputs": [
    {
     "name": "stdout",
     "output_type": "stream",
     "text": [
      "[65, 16, 51, 18, 40, 52, 30, 61, 34, 7, 23, 69, 0, 64, 73, 52, 0, 18, 18, 17, 35, 83, 56, 82, 35, 71, 16, 52, 14, 30, 57, 0, 66, 5, 52, 68, 23, 18, 5, 89, 18, 66, 58, 45, 60, 52, 0, 18, 18, 17, 35, 45, 60, 54, 75, 35, 65, 7, 29, 57, 83, 63, 48, 67, 57, 63, 48, 56, 44, 64, 57, 84, 6, 68, 30, 18, 89, 35, 71, 99, 58, 35, 87, 49, 18, 89, 35, 6, 68, 79, 89, 51, 45, 30, 23, 45, 67, 60, 56, 78, 23, 29, 18, 52, 10, 64]\n"
     ]
    }
   ],
   "source": [
    "print(tokenized_text[0])"
   ]
  },
  {
   "cell_type": "code",
   "execution_count": 41,
   "metadata": {},
   "outputs": [
    {
     "name": "stdout",
     "output_type": "stream",
     "text": [
      "4192\n",
      "0 [65, 16]\n",
      "1 [16, 51]\n",
      "2 [51, 18]\n",
      "3 [18, 40]\n",
      "4 [40, 52]\n"
     ]
    }
   ],
   "source": [
    "start_token = vocab_size\n",
    "end_token = vocab_size + 1\n",
    "        \n",
    "    \n",
    "class LM:\n",
    "    def __init__(self, vocab_size, delta=1):\n",
    "        self.delta = delta\n",
    "        self.vocab_size = vocab_size + 2\n",
    "        self.proba = {} # TODO create array for storing 3-gram counters\n",
    "        \n",
    "    def infer(self, a, b, tau=1):\n",
    "        \"\"\"\n",
    "        return vector of probabilities of size self.vocab for 3-grams which start with (a,b) tokens\n",
    "        a: first token id\n",
    "        b: second token id\n",
    "        tau: temperature\n",
    "        \"\"\"\n",
    "        result = {}\n",
    "        for item in self.itos:\n",
    "            P = self.get_proba(a, b, item, tau)\n",
    "            result[item] = P\n",
    "        return result\n",
    "        \n",
    "    def get_proba(self, a, b, c, tau=1):\n",
    "        \"\"\"\n",
    "        get probability of 3-gram (a,b,c)\n",
    "        a: first token id\n",
    "        b: second token id\n",
    "        c: third token id\n",
    "        tau: temperature\n",
    "        \"\"\"\n",
    "        P_ab = 0\n",
    "        P_abc = 0\n",
    "        for sublist in self.text:\n",
    "             if a in sublist and b in sublist:\n",
    "                for i in range(len(sublist) - 2):\n",
    "                    if sublist[i] == a and sublist[i+1] == b:\n",
    "                        P_ab += 1\n",
    "                        if c in sublist and i + 2 < len(sublist) and sublist[i + 2] == c:\n",
    "                            P_abc += 1                    \n",
    "        n = 1/tau        \n",
    "        result = (P_ab ** n) / (P_abc ** n) if P_abc > 0 else 0 # TODO approximate probability by counters\n",
    "        return result\n",
    "    \n",
    "    def fit(self, text):\n",
    "        \"\"\"\n",
    "        train language model on text\n",
    "        text: list of lists\n",
    "        \"\"\"\n",
    "        self.text = text\n",
    "        self.itos = set([inner for sublist in text for inner in sublist])\n",
    "        self.bigrams = []\n",
    "        for txt in text:\n",
    "            for i in range(len(txt) - 1):\n",
    "                if [txt[i], txt[i+1]] not in self.bigrams:\n",
    "                    self.bigrams.append([txt[i], txt[i+1]])\n",
    "        print(len(self.bigrams))            \n",
    "       \n",
    "    #    self.proba = # TODO count 3-grams in the text\n",
    "    \n",
    "        for idx, bigram in enumerate(self.bigrams[:5]):\n",
    "            self.proba[(bigram[0], bigram[1])] = self.infer(bigram[0], bigram[1])\n",
    "            print(idx, bigram)   \n",
    "        return self\n",
    "    \n",
    "lm = LM(vocab_size, 1).fit(tokenized_text)"
   ]
  },
  {
   "cell_type": "code",
   "execution_count": null,
   "metadata": {},
   "outputs": [],
   "source": [
    "np.save(lm.proba, 'proba.npy')"
   ]
  },
  {
   "cell_type": "code",
   "execution_count": 50,
   "metadata": {},
   "outputs": [
    {
     "name": "stdout",
     "output_type": "stream",
     "text": [
      "[(48, 2803.5), (47, 1869.0), (94, 1401.75), (27, 1121.4), (53, 700.875)]\n"
     ]
    }
   ],
   "source": [
    "input_seq = [16, 51]\n",
    "proba = lm.proba\n",
    "bigrams = lm.bigrams\n",
    "if len(input_seq) >= 2:\n",
    "    if [input_seq[-2], input_seq[-1]] in lm.bigrams:\n",
    "        res = sorted(proba[(input_seq[-2], input_seq[-1])].items(),  key=lambda x: x[1], reverse = True)[:5]\n",
    "        print(res)"
   ]
  },
  {
   "cell_type": "code",
   "execution_count": null,
   "metadata": {},
   "outputs": [],
   "source": [
    "def beam_search(input_seq, lm, max_len=10, k=5, tau=1):\n",
    "    \"\"\"\n",
    "    generate sequence from language model *lm* conditioned on input_seq\n",
    "    input_seq: sequence of token ids for conditioning\n",
    "    lm: language model\n",
    "    max_len: max generated sequence length\n",
    "    k: size of beam\n",
    "    tau: temperature\n",
    "    \"\"\"\n",
    "    \n",
    "    beam = [] # TODO store in beam tuples of current sequences and their log probabilities\n",
    "    \n",
    "    proba = lm.proba\n",
    "    bigrams = lm.bigrams\n",
    "    if len(input_seq) >= 2:\n",
    "        if [input_seq[-2], input_seq[-1]] in lm.bigrams:\n",
    "        res = sorted(proba[(input_seq[-2], input_seq[-1])].items(),  key=lambda x: x[1], reverse = True)[:k]\n",
    "        print(res)\n",
    "            \n",
    "            \n",
    "        \n",
    "    for i in range(max_len):\n",
    "        candidates = []\n",
    "        candidates_proba = []\n",
    "        for snt, snt_proba in beam:\n",
    "            if # TODO process terminal token\n",
    "            else:    \n",
    "                proba = # probability vector of the next token\n",
    "                best_k = # top-k most probable tokens\n",
    "                # TODO update candidates' sequences and corresponding probabilities\n",
    "                \n",
    "        beam = # select top-k most probable sequences from candidates\n",
    "    return beam\n",
    "    "
   ]
  },
  {
   "cell_type": "code",
   "execution_count": null,
   "metadata": {},
   "outputs": [],
   "source": [
    "input1 = 'horse '\n",
    "input1 = bpe.transform([input1])[0]\n",
    "result = beam_search(input1, lm, max_len=10, k=10, tau=0.1)\n",
    "# TODO print decoded generated strings and their probabilities\n",
    "    "
   ]
  },
  {
   "cell_type": "code",
   "execution_count": null,
   "metadata": {},
   "outputs": [],
   "source": [
    "input1 = 'her'\n",
    "input1 = bpe.transform([input1])[0]\n",
    "result = beam_search(input1, lm, max_len=10, k=10, tau=0.1)\n",
    "# TODO print decoded generated strings and their probabilities"
   ]
  },
  {
   "cell_type": "code",
   "execution_count": null,
   "metadata": {},
   "outputs": [],
   "source": [
    "input1 = 'what'\n",
    "input1 = bpe.transform([input1])[0]\n",
    "result = beam_search(input1, lm, max_len=10, k=10, tau=1)\n",
    "# TODO print decoded generated strings and their probabilities"
   ]
  },
  {
   "cell_type": "code",
   "execution_count": null,
   "metadata": {},
   "outputs": [],
   "source": [
    "input1 = 'gun '\n",
    "input1 = bpe.transform([input1])[0]\n",
    "result = beam_search(input1, lm, max_len=10, k=10, tau=0.1)\n",
    "# TODO print decoded generated strings and their probabilities"
   ]
  },
  {
   "cell_type": "code",
   "execution_count": null,
   "metadata": {},
   "outputs": [],
   "source": [
    "def perplexity(snt, lm):\n",
    "    \"\"\"\n",
    "    snt: sequence of token ids\n",
    "    lm: language model\n",
    "    \"\"\"\n",
    "    result = #TODO perplexity for the sentence\n",
    "    return result\n",
    "\n",
    "perplexity(tokenized_text[0], lm)"
   ]
  }
 ],
 "metadata": {
  "kernelspec": {
   "display_name": "Python 3",
   "language": "python",
   "name": "python3"
  },
  "language_info": {
   "codemirror_mode": {
    "name": "ipython",
    "version": 3
   },
   "file_extension": ".py",
   "mimetype": "text/x-python",
   "name": "python",
   "nbconvert_exporter": "python",
   "pygments_lexer": "ipython3",
   "version": "3.7.4"
  }
 },
 "nbformat": 4,
 "nbformat_minor": 2
}
