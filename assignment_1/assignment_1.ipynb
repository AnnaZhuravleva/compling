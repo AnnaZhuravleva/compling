{
 "cells": [
  {
   "cell_type": "markdown",
   "metadata": {},
   "source": [
    "# Assignment 1\n",
    "\n",
    "Using text http://www.gutenberg.org/files/2600/2600-0.txt\n",
    "1. Make text lowercase and remove all punctuation except spaces and dots.\n",
    "2. Tokenize text by BPE with vocab_size = 100\n",
    "3. Train 3-gram language model with laplace smoothing $\\delta=1$\n",
    "4. Using beam search with k=10 generate sequences of length=10 conditioned on provided inputs. Treat dots as terminal tokens.\n",
    "5. Calculate perplexity of the language model for the first sentence."
   ]
  },
  {
   "cell_type": "code",
   "execution_count": 2,
   "metadata": {},
   "outputs": [
    {
     "data": {
      "text/plain": [
       "3227580"
      ]
     },
     "execution_count": 2,
     "metadata": {},
     "output_type": "execute_result"
    }
   ],
   "source": [
    "text = open('peace.txt', 'r', encoding='utf-8-sig').read()\n",
    "len(text)"
   ]
  },
  {
   "cell_type": "code",
   "execution_count": 3,
   "metadata": {},
   "outputs": [
    {
     "data": {
      "text/plain": [
       "3130569"
      ]
     },
     "execution_count": 3,
     "metadata": {},
     "output_type": "execute_result"
    }
   ],
   "source": [
    "import string\n",
    "import re\n",
    "\n",
    "def preprocess_text(text):\n",
    "    punct = list(set(re.findall('\\W', text)))\n",
    "    punct.remove('.')\n",
    "    words = ''\n",
    "    for word in text.split():\n",
    "        for letter in word:\n",
    "            if letter not in punct:\n",
    "                words += letter\n",
    "        words += ' '\n",
    "    text = words.lower()\n",
    "        \n",
    "    # replace all punctuation except dots with spaces\n",
    "    # collapse multiple spaces into one '   ' -> ' '\n",
    "    return text\n",
    "\n",
    "\n",
    "text = preprocess_text(text)\n",
    "len(text)\n",
    "# assert len(text) == 3141169"
   ]
  },
  {
   "cell_type": "code",
   "execution_count": 4,
   "metadata": {},
   "outputs": [],
   "source": [
    "text = text.split('.')\n",
    "text = [x.strip() for x in text]"
   ]
  },
  {
   "cell_type": "code",
   "execution_count": 171,
   "metadata": {},
   "outputs": [],
   "source": [
    "\n",
    "def fit(text):\n",
    "        \"\"\"\n",
    "        fit itos and stoi\n",
    "        text: list of strings \n",
    "        \"\"\"\n",
    "        \n",
    "        # TODO\n",
    "        # tokenize text by symbols and fill in self.itos and self.stoi\n",
    "        itos = list(set([item for txt in text for item in set(txt)]))\n",
    "        stoi = {l: idx for idx, l in enumerate(itos)}\n",
    "        vocab_size = 50\n",
    "        text = [[stoi[letter] for letter in txt] for txt in text]\n",
    "        \n",
    "        while len(itos) < vocab_size:\n",
    "            # TODO\n",
    "            # count bigram freqencies in the text\n",
    "            bigrams = collections.Counter()\n",
    "            for txt in text:\n",
    "                i = 0\n",
    "                while i + 1 < len(txt):\n",
    "                    bigrams[(txt[i], txt[i+1])] += 1\n",
    "                    i += 1\n",
    "                \n",
    "            mc = bigrams.most_common(1)[0][0]\n",
    "            new_token = str(itos[int(mc[0])]) + str(itos[int(mc[1])])\n",
    "            new_id = len(itos)\n",
    "            \n",
    "            itos.append(new_token)\n",
    "            stoi[new_token] = new_id\n",
    "            \n",
    "            # find occurences of the new_token in the text and replace them with new_id\n",
    "            tmp = []\n",
    "            for txt in text:\n",
    "                tmp2 = []\n",
    "                i = 0\n",
    "                while i + 1 < len(txt):\n",
    "                    if new_token == itos[txt[i]] + itos[txt[i+1]]:\n",
    "                        tmp2.append(new_id)\n",
    "                        i += 2\n",
    "                    else:\n",
    "                        tmp2.append(txt[i])\n",
    "                        i += 1\n",
    "                tmp.append(tmp2)\n",
    "                    \n",
    "            text = tmp \n",
    "        print(stoi)\n",
    "        for item in text:\n",
    "            print(item)\n",
    "        return text\n",
    "     "
   ]
  },
  {
   "cell_type": "code",
   "execution_count": 4,
   "metadata": {},
   "outputs": [],
   "source": [
    "# fit(text[:2])"
   ]
  },
  {
   "cell_type": "code",
   "execution_count": 18,
   "metadata": {
    "scrolled": true
   },
   "outputs": [],
   "source": [
    "import collections\n",
    "from collections import Counter\n",
    "import nltk\n",
    "from sklearn.base import TransformerMixin\n",
    "import numpy as np\n",
    "\n",
    "\n",
    "class BPE(TransformerMixin):\n",
    "    def __init__(self, vocab_size=100):\n",
    "        super(BPE, self).__init__()\n",
    "        self.vocab_size = vocab_size\n",
    "        # index to token\n",
    "        self.itos = []\n",
    "        # token to index\n",
    "        self.stoi = {}\n",
    "        \n",
    "    def fit(self, text):\n",
    "        \"\"\"\n",
    "        fit itos and stoi\n",
    "        text: list of strings \n",
    "        \"\"\"\n",
    "        \n",
    "        # TODO\n",
    "        # tokenize text by symbols and fill in self.itos and self.stoi\n",
    "        self.itos = list(set([item for txt in text for item in set(txt)]))\n",
    "        self.stoi = {l: idx for idx, l in enumerate(self.itos)}\n",
    "        text = [[self.stoi[letter] for letter in txt] for txt in text]\n",
    "        \n",
    "        while len(self.itos) < self.vocab_size:\n",
    "            # TODO\n",
    "            # count bigram freqencies in the text\n",
    "            bigrams = collections.Counter()\n",
    "            for txt in text:\n",
    "                i = 0\n",
    "                while i + 1 < len(txt):\n",
    "                    bigrams[(txt[i], txt[i+1])] += 1\n",
    "                    i += 1\n",
    "                \n",
    "                \n",
    "            mc = bigrams.most_common(1)[0][0]\n",
    "            new_token = str(self.itos[int(mc[0])]) + str(self.itos[int(mc[1])])\n",
    "            new_id = len(self.itos)\n",
    "            \n",
    "            self.itos.append(new_token)\n",
    "            self.stoi[new_token] = new_id\n",
    "            \n",
    "            # find occurences of the new_token in the text and replace them with new_id\n",
    "            tmp = []\n",
    "            for txt in text:\n",
    "                tmp2 = []\n",
    "                i = 0\n",
    "                while i + 1 < len(txt):\n",
    "                    if new_token == self.itos[txt[i]] + self.itos[txt[i+1]]:\n",
    "                        tmp2.append(new_id)\n",
    "                        i += 2\n",
    "                    else:\n",
    "                        tmp2.append(txt[i])\n",
    "                        i += 1\n",
    "                tmp.append(tmp2)\n",
    "                    \n",
    "            text = tmp \n",
    "           \n",
    "        return self\n",
    "    \n",
    "    def transform(self, text):\n",
    "        \"\"\"\n",
    "        convert text to a sequence of token ids\n",
    "        text: list of strings\n",
    "        \"\"\" \n",
    "        max_size = max([len(tok) for tok in self.itos])\n",
    "        \n",
    "        new_text = []\n",
    "        for txt in text:\n",
    "            i = 0\n",
    "            new_txt = []\n",
    "            while i < len(txt):\n",
    "                hit = False\n",
    "                stop = i+max_size if len(txt) - (i + max_size) >= 0 else len(txt)\n",
    "                while hit == False and stop > i:\n",
    "                    if txt[i:stop] in self.itos:\n",
    "                        new_txt.append(self.stoi[txt[i:stop]])\n",
    "                        hit = True\n",
    "                        i = stop\n",
    "                    else:\n",
    "                        stop -= 1\n",
    "            new_text.append(new_txt)\n",
    "                                \n",
    "        text = new_text\n",
    "       # for token_id, token in enumerate(self.itos):\n",
    "            # find occurences of the token in the text and replace them with token_id\n",
    "          #  text = # TODO       \n",
    "        return text\n",
    "    \n",
    "    def decode_token(self, tok):\n",
    "        \"\"\"\n",
    "        tok: int or tuple\n",
    "        \"\"\"\n",
    "        result = self.itos[tok] if isinstance(tok, int) else [self.itos[i] for i in token]\n",
    "        return result\n",
    "            \n",
    "    def decode(self, text):\n",
    "        \"\"\"\n",
    "        convert token ids into text\n",
    "        \"\"\"\n",
    "        return ''.join(map(self.decode_token, text))\n",
    "        \n",
    "        \n",
    "vocab_size = 100\n",
    "bpe = BPE(vocab_size)\n",
    "tokenized_text = bpe.fit_transform(text)"
   ]
  },
  {
   "cell_type": "code",
   "execution_count": 21,
   "metadata": {},
   "outputs": [],
   "source": [
    "assert bpe.decode(tokenized_text[0]) == text[0]"
   ]
  },
  {
   "cell_type": "code",
   "execution_count": 19,
   "metadata": {},
   "outputs": [
    {
     "data": {
      "text/plain": [
       "'the project gutenberg ebook of war and peace by leo tolstoy this ebook is for the use of anyone anywhere at no cost and with almost no restrictions whatsoever'"
      ]
     },
     "execution_count": 19,
     "metadata": {},
     "output_type": "execute_result"
    }
   ],
   "source": [
    "bpe.decode(tokenized_text[0]) "
   ]
  },
  {
   "cell_type": "code",
   "execution_count": 22,
   "metadata": {},
   "outputs": [
    {
     "data": {
      "text/plain": [
       "'the project gutenberg ebook of war and peace by leo tolstoy this ebook is for the use of anyone anywhere at no cost and with almost no restrictions whatsoever'"
      ]
     },
     "execution_count": 22,
     "metadata": {},
     "output_type": "execute_result"
    }
   ],
   "source": [
    "text[0]"
   ]
  },
  {
   "cell_type": "code",
   "execution_count": 26,
   "metadata": {},
   "outputs": [
    {
     "name": "stdout",
     "output_type": "stream",
     "text": [
      "[65, 6, 54, 9, 42, 17, 43, 61, 10, 15, 29, 69, 38, 64, 73, 17, 38, 9, 9, 55, 3, 83, 18, 82, 3, 71, 6, 17, 56, 43, 57, 38, 66, 11, 17, 68, 29, 9, 11, 89, 9, 66, 58, 24, 60, 17, 38, 9, 9, 55, 3, 24, 60, 25, 75, 3, 65, 15, 31, 57, 83, 63, 44, 67, 57, 63, 44, 18, 8, 64, 57, 84, 48, 68, 43, 9, 89, 3, 71, 99, 58, 3, 87, 30, 9, 89, 3, 48, 68, 79, 89, 54, 24, 43, 29, 24, 67, 60, 18, 78, 29, 31, 9, 17, 50, 64]\n"
     ]
    }
   ],
   "source": [
    "print(tokenized_text[0])"
   ]
  },
  {
   "cell_type": "code",
   "execution_count": null,
   "metadata": {},
   "outputs": [],
   "source": [
    "start_token = vocab_size\n",
    "end_token = vocab_size + 1\n",
    "        \n",
    "    \n",
    "class LM:\n",
    "    def __init__(self, vocab_size, delta=1):\n",
    "        self.delta = delta\n",
    "        self.vocab_size = vocab_size + 2\n",
    "        self.proba = collections.Counter() # TODO create array for storing 3-gram counters\n",
    "        \n",
    "    def infer(self, a, b, tau=1):\n",
    "        \"\"\"\n",
    "        return vector of probabilities of size self.vocab for 3-grams which start with (a,b) tokens\n",
    "        a: first token id\n",
    "        b: second token id\n",
    "        tau: temperature\n",
    "        \"\"\"\n",
    "        result = # TODO\n",
    "        return result\n",
    "        \n",
    "    def get_proba(self, a, b, c, tau=1):\n",
    "        \"\"\"\n",
    "        get probability of 3-gram (a,b,c)\n",
    "        a: first token id\n",
    "        b: second token id\n",
    "        c: third token id\n",
    "        tau: temperature\n",
    "        \"\"\"\n",
    "        result = # TODO approximate probability by counters\n",
    "        return result\n",
    "    \n",
    "    def fit(self, text):\n",
    "        \"\"\"\n",
    "        train language model on text\n",
    "        text: list of lists\n",
    "        \"\"\"\n",
    "        self.proba = # TODO count 3-grams in the text\n",
    "        \n",
    "        return self\n",
    "    \n",
    "lm = LM(vocab_size, 1).fit(tokenized_text)"
   ]
  },
  {
   "cell_type": "code",
   "execution_count": null,
   "metadata": {},
   "outputs": [],
   "source": [
    "def beam_search(input_seq, lm, max_len=10, k=5, tau=1):\n",
    "    \"\"\"\n",
    "    generate sequence from language model *lm* conditioned on input_seq\n",
    "    input_seq: sequence of token ids for conditioning\n",
    "    lm: language model\n",
    "    max_len: max generated sequence length\n",
    "    k: size of beam\n",
    "    tau: temperature\n",
    "    \"\"\"\n",
    "    \n",
    "    beam = # TODO store in beam tuples of current sequences and their log probabilities\n",
    "    \n",
    "    for i in range(max_len):\n",
    "        candidates = []\n",
    "        candidates_proba = []\n",
    "        for snt, snt_proba in beam:\n",
    "            if # TODO process terminal token\n",
    "            else:    \n",
    "                proba = # probability vector of the next token\n",
    "                best_k = # top-k most probable tokens\n",
    "                # TODO update candidates' sequences and corresponding probabilities\n",
    "                \n",
    "        beam = # select top-k most probable sequences from candidates\n",
    "    return beam\n",
    "    "
   ]
  },
  {
   "cell_type": "code",
   "execution_count": null,
   "metadata": {},
   "outputs": [],
   "source": [
    "input1 = 'horse '\n",
    "input1 = bpe.transform([input1])[0]\n",
    "result = beam_search(input1, lm, max_len=10, k=10, tau=0.1)\n",
    "# TODO print decoded generated strings and their probabilities\n",
    "    "
   ]
  },
  {
   "cell_type": "code",
   "execution_count": null,
   "metadata": {},
   "outputs": [],
   "source": [
    "input1 = 'her'\n",
    "input1 = bpe.transform([input1])[0]\n",
    "result = beam_search(input1, lm, max_len=10, k=10, tau=0.1)\n",
    "# TODO print decoded generated strings and their probabilities"
   ]
  },
  {
   "cell_type": "code",
   "execution_count": null,
   "metadata": {},
   "outputs": [],
   "source": [
    "input1 = 'what'\n",
    "input1 = bpe.transform([input1])[0]\n",
    "result = beam_search(input1, lm, max_len=10, k=10, tau=1)\n",
    "# TODO print decoded generated strings and their probabilities"
   ]
  },
  {
   "cell_type": "code",
   "execution_count": null,
   "metadata": {},
   "outputs": [],
   "source": [
    "input1 = 'gun '\n",
    "input1 = bpe.transform([input1])[0]\n",
    "result = beam_search(input1, lm, max_len=10, k=10, tau=0.1)\n",
    "# TODO print decoded generated strings and their probabilities"
   ]
  },
  {
   "cell_type": "code",
   "execution_count": null,
   "metadata": {},
   "outputs": [],
   "source": [
    "def perplexity(snt, lm):\n",
    "    \"\"\"\n",
    "    snt: sequence of token ids\n",
    "    lm: language model\n",
    "    \"\"\"\n",
    "    result = #TODO perplexity for the sentence\n",
    "    return result\n",
    "\n",
    "perplexity(tokenized_text[0], lm)"
   ]
  }
 ],
 "metadata": {
  "kernelspec": {
   "display_name": "Python 3",
   "language": "python",
   "name": "python3"
  },
  "language_info": {
   "codemirror_mode": {
    "name": "ipython",
    "version": 3
   },
   "file_extension": ".py",
   "mimetype": "text/x-python",
   "name": "python",
   "nbconvert_exporter": "python",
   "pygments_lexer": "ipython3",
   "version": "3.7.0"
  }
 },
 "nbformat": 4,
 "nbformat_minor": 2
}
