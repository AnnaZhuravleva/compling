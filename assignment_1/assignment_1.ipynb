{
  "nbformat": 4,
  "nbformat_minor": 0,
  "metadata": {
    "kernelspec": {
      "display_name": "Python 3",
      "language": "python",
      "name": "python3"
    },
    "language_info": {
      "codemirror_mode": {
        "name": "ipython",
        "version": 3
      },
      "file_extension": ".py",
      "mimetype": "text/x-python",
      "name": "python",
      "nbconvert_exporter": "python",
      "pygments_lexer": "ipython3",
      "version": "3.7.0"
    },
    "colab": {
      "name": "Copy of assignment_1.ipynb",
      "provenance": [],
      "collapsed_sections": [],
      "include_colab_link": true
    }
  },
  "cells": [
    {
      "cell_type": "markdown",
      "metadata": {
        "id": "view-in-github",
        "colab_type": "text"
      },
      "source": [
        "<a href=\"https://colab.research.google.com/github/AnnaZhuravleva/compling/blob/master/assignment_1/assignment_1.ipynb\" target=\"_parent\"><img src=\"https://colab.research.google.com/assets/colab-badge.svg\" alt=\"Open In Colab\"/></a>"
      ]
    },
    {
      "cell_type": "markdown",
      "metadata": {
        "id": "x7LXW09O25cW",
        "colab_type": "text"
      },
      "source": [
        "# Assignment 1\n",
        "\n",
        "Using text http://www.gutenberg.org/files/2600/2600-0.txt\n",
        "1. Make text lowercase and remove all punctuation except spaces and dots.\n",
        "2. Tokenize text by BPE with vocab_size = 100\n",
        "3. Train 3-gram language model with laplace smoothing $\\delta=1$\n",
        "4. Using beam search with k=10 generate sequences of length=10 conditioned on provided inputs. Treat dots as terminal tokens.\n",
        "5. Calculate perplexity of the language model for the first sentence."
      ]
    },
    {
      "cell_type": "code",
      "metadata": {
        "id": "I0WD6tGX25cY",
        "colab_type": "code",
        "colab": {}
      },
      "source": [
        "import string\n",
        "import re\n",
        "import collections\n",
        "from collections import Counter\n",
        "import nltk\n",
        "from sklearn.base import TransformerMixin\n",
        "import numpy as np\n"
      ],
      "execution_count": 0,
      "outputs": []
    },
    {
      "cell_type": "code",
      "metadata": {
        "id": "AFz4R5wS4PVy",
        "colab_type": "code",
        "outputId": "dda7b26f-1b8a-4acc-8c39-2ca21a97d001",
        "colab": {
          "base_uri": "https://localhost:8080/",
          "height": 53
        }
      },
      "source": [
        "\n",
        "from google.colab import drive\n",
        "drive.mount('/content/drive')\n",
        "text = open('/content/drive/My Drive/Colab Notebooks/compling/assignment_1/peace.txt')\n",
        "# text = open('peace.txt', 'r', encoding='utf-8-sig')"
      ],
      "execution_count": 136,
      "outputs": [
        {
          "output_type": "stream",
          "text": [
            "Drive already mounted at /content/drive; to attempt to forcibly remount, call drive.mount(\"/content/drive\", force_remount=True).\n"
          ],
          "name": "stdout"
        }
      ]
    },
    {
      "cell_type": "code",
      "metadata": {
        "id": "JSr1Joz125cb",
        "colab_type": "code",
        "outputId": "8256c1a6-6081-444b-de72-62b05697ae81",
        "colab": {
          "base_uri": "https://localhost:8080/",
          "height": 33
        }
      },
      "source": [
        "\n",
        "text = text.read()\n",
        "len(text)"
      ],
      "execution_count": 137,
      "outputs": [
        {
          "output_type": "execute_result",
          "data": {
            "text/plain": [
              "3227581"
            ]
          },
          "metadata": {
            "tags": []
          },
          "execution_count": 137
        }
      ]
    },
    {
      "cell_type": "code",
      "metadata": {
        "scrolled": true,
        "id": "FSDV_zbZ25ce",
        "colab_type": "code",
        "outputId": "d5548234-09b5-4f6b-94ec-09d9e47d8ab4",
        "colab": {
          "base_uri": "https://localhost:8080/",
          "height": 33
        }
      },
      "source": [
        "def preprocess_text(text):\n",
        "    punct = list(set(re.findall('\\W', text)))\n",
        "    punct.remove('.')\n",
        "    words = ''\n",
        "    for word in text.split():\n",
        "        for letter in word:\n",
        "            if letter not in punct:\n",
        "                words += letter\n",
        "        words += ' '\n",
        "    text = words.lower()\n",
        "        \n",
        "    # replace all punctuation except dots with spaces\n",
        "    # collapse multiple spaces into one '   ' -> ' '\n",
        "    return text\n",
        "\n",
        "\n",
        "text = preprocess_text(text)\n",
        "len(text)\n",
        "# assert len(text) == 3141169"
      ],
      "execution_count": 138,
      "outputs": [
        {
          "output_type": "execute_result",
          "data": {
            "text/plain": [
              "3130570"
            ]
          },
          "metadata": {
            "tags": []
          },
          "execution_count": 138
        }
      ]
    },
    {
      "cell_type": "code",
      "metadata": {
        "id": "63n1ZAHN25cg",
        "colab_type": "code",
        "colab": {}
      },
      "source": [
        "text = text.split('.')\n",
        "text = [x.strip() for x in text]"
      ],
      "execution_count": 0,
      "outputs": []
    },
    {
      "cell_type": "code",
      "metadata": {
        "scrolled": true,
        "id": "BypVTf1z25ci",
        "colab_type": "code",
        "colab": {}
      },
      "source": [
        "class BPE(TransformerMixin):\n",
        "    \n",
        "    def __init__(self, vocab_size=100):\n",
        "        super(BPE, self).__init__()\n",
        "        self.vocab_size = vocab_size\n",
        "        # index to token\n",
        "        self.itos = []\n",
        "        # token to index\n",
        "        self.stoi = {}\n",
        "        \n",
        "    def fit(self, text):\n",
        "        \"\"\"\n",
        "        fit itos and stoi\n",
        "        text: list of strings \n",
        "        \"\"\"\n",
        "        \n",
        "        # TODO\n",
        "        # tokenize text by symbols and fill in self.itos and self.stoi\n",
        "        self.itos = list(set([item for txt in text for item in set(txt)]))\n",
        "        self.stoi = {l: idx for idx, l in enumerate(self.itos)}\n",
        "        text = [[self.stoi[letter] for letter in txt] for txt in text]\n",
        "        \n",
        "        while len(self.itos) < self.vocab_size:\n",
        "            # TODO\n",
        "            # count bigram freqencies in the text\n",
        "            bigrams = collections.Counter()\n",
        "            for txt in text:\n",
        "                i = 0\n",
        "                while i + 1 < len(txt):\n",
        "                    bigrams[(txt[i], txt[i+1])] += 1\n",
        "                    i += 1\n",
        "                \n",
        "                \n",
        "            mc = bigrams.most_common(1)[0][0]\n",
        "            new_token = str(self.itos[int(mc[0])]) + str(self.itos[int(mc[1])])\n",
        "            new_id = len(self.itos)\n",
        "            \n",
        "            self.itos.append(new_token)\n",
        "            self.stoi[new_token] = new_id\n",
        "            \n",
        "            # find occurences of the new_token in the text and replace them with new_id\n",
        "            tmp = []\n",
        "            for txt in text:\n",
        "                tmp2 = []\n",
        "                i = 0\n",
        "                while i + 1 < len(txt):\n",
        "                    if new_token == self.itos[txt[i]] + self.itos[txt[i+1]]:\n",
        "                        tmp2.append(new_id)\n",
        "                        i += 2\n",
        "                    else:\n",
        "                        tmp2.append(txt[i])\n",
        "                        i += 1\n",
        "                tmp.append(tmp2)\n",
        "                    \n",
        "            text = tmp \n",
        "           \n",
        "        return self\n",
        "    \n",
        "    def transform(self, text):\n",
        "        \"\"\"\n",
        "        convert text to a sequence of token ids\n",
        "        text: list of strings\n",
        "        \"\"\" \n",
        "        max_size = max([len(tok) for tok in self.itos])\n",
        "        \n",
        "        new_text = []\n",
        "        for txt in text:\n",
        "            i = 0\n",
        "            new_txt = []\n",
        "            while i < len(txt):\n",
        "                hit = False\n",
        "                stop = i+max_size if len(txt) - (i + max_size) >= 0 else len(txt)\n",
        "                while hit == False and stop > i:\n",
        "                    if txt[i:stop] in self.itos:\n",
        "                        new_txt.append(self.stoi[txt[i:stop]])\n",
        "                        hit = True\n",
        "                        i = stop\n",
        "                    else:\n",
        "                        stop -= 1\n",
        "            new_text.append(new_txt)\n",
        "                                \n",
        "        text = new_text\n",
        "       # for token_id, token in enumerate(self.itos):\n",
        "            # find occurences of the token in the text and replace them with token_id\n",
        "          #  text = # TODO       \n",
        "        return text\n",
        "    \n",
        "    def decode_token(self, tok):\n",
        "        \"\"\"\n",
        "        tok: int or tuple\n",
        "        \"\"\"\n",
        "        result = self.itos[tok] if isinstance(tok, int) else [self.itos[i] for i in token]\n",
        "        return result\n",
        "            \n",
        "    def decode(self, text):\n",
        "        \"\"\"\n",
        "        convert token ids into text\n",
        "        \"\"\"\n",
        "        return ''.join(map(self.decode_token, text))\n",
        "        \n",
        "        \n",
        "vocab_size = 100\n",
        "bpe = BPE(vocab_size)\n",
        "tokenized_text = bpe.fit_transform(text)"
      ],
      "execution_count": 0,
      "outputs": []
    },
    {
      "cell_type": "code",
      "metadata": {
        "id": "1X7yE3-R25ck",
        "colab_type": "code",
        "colab": {}
      },
      "source": [
        "assert bpe.decode(tokenized_text[0]) == text[0]"
      ],
      "execution_count": 0,
      "outputs": []
    },
    {
      "cell_type": "code",
      "metadata": {
        "id": "BWqPZVe625cm",
        "colab_type": "code",
        "outputId": "a6a846b4-6f57-47db-8f81-ec1d4bfa94d1",
        "colab": {
          "base_uri": "https://localhost:8080/",
          "height": 53
        }
      },
      "source": [
        "bpe.decode(tokenized_text[0]) "
      ],
      "execution_count": 143,
      "outputs": [
        {
          "output_type": "execute_result",
          "data": {
            "text/plain": [
              "'the project gutenberg ebook of war and peace by leo tolstoy this ebook is for the use of anyone anywhere at no cost and with almost no restrictions whatsoever'"
            ]
          },
          "metadata": {
            "tags": []
          },
          "execution_count": 143
        }
      ]
    },
    {
      "cell_type": "code",
      "metadata": {
        "id": "oRJJ9agL25co",
        "colab_type": "code",
        "outputId": "9d5007d8-37aa-4a80-8e9f-59d7f3633f3f",
        "colab": {
          "base_uri": "https://localhost:8080/",
          "height": 53
        }
      },
      "source": [
        "text[0]"
      ],
      "execution_count": 144,
      "outputs": [
        {
          "output_type": "execute_result",
          "data": {
            "text/plain": [
              "'the project gutenberg ebook of war and peace by leo tolstoy this ebook is for the use of anyone anywhere at no cost and with almost no restrictions whatsoever'"
            ]
          },
          "metadata": {
            "tags": []
          },
          "execution_count": 144
        }
      ]
    },
    {
      "cell_type": "code",
      "metadata": {
        "id": "-Zb1Xetj25cq",
        "colab_type": "code",
        "outputId": "a5b9d6ce-58b5-4f12-cee2-a81949891538",
        "colab": {
          "base_uri": "https://localhost:8080/",
          "height": 53
        }
      },
      "source": [
        "print(tokenized_text[0])"
      ],
      "execution_count": 145,
      "outputs": [
        {
          "output_type": "stream",
          "text": [
            "[65, 38, 47, 15, 28, 13, 17, 61, 9, 55, 43, 69, 39, 64, 73, 13, 39, 15, 15, 32, 3, 83, 46, 82, 3, 71, 38, 13, 54, 17, 57, 39, 66, 19, 13, 68, 43, 15, 19, 89, 15, 66, 58, 5, 60, 13, 39, 15, 15, 32, 3, 5, 60, 25, 75, 3, 65, 55, 10, 57, 83, 63, 51, 67, 57, 63, 51, 46, 34, 64, 57, 84, 45, 68, 17, 15, 89, 3, 71, 99, 58, 3, 87, 23, 15, 89, 3, 45, 68, 79, 89, 47, 5, 17, 43, 5, 67, 60, 46, 78, 43, 10, 15, 13, 2, 64]\n"
          ],
          "name": "stdout"
        }
      ]
    },
    {
      "cell_type": "code",
      "metadata": {
        "id": "IDIVHbHb25cs",
        "colab_type": "code",
        "colab": {}
      },
      "source": [
        "start_token = vocab_size\n",
        "end_token = vocab_size + 1\n",
        "        \n",
        "    \n",
        "class LM:\n",
        "    \n",
        "    def __init__(self, vocab_size, delta=1):\n",
        "        self.delta = delta\n",
        "        self.vocab_size = vocab_size + 2\n",
        "        self.proba = Counter() # TODO create array for storing 3-gram counters\n",
        "        \n",
        "    def infer(self, a, b, tau=1):\n",
        "        \"\"\"\n",
        "        return vector of probabilities of size self.vocab for 3-grams which start with (a,b) tokens\n",
        "        a: first token id\n",
        "        b: second token id\n",
        "        tau: temperature\n",
        "        \"\"\"\n",
        "        result = []\n",
        "        for item in range(self.vocab_size):\n",
        "            result.append(self.get_proba(a, b, item, tau))\n",
        "        return result\n",
        "        \n",
        "    def get_proba(self, a, b, c, tau=1):\n",
        "        \"\"\"\n",
        "        get probability of 3-gram (a,b,c)\n",
        "        a: first token id\n",
        "        b: second token id\n",
        "        c: third token id\n",
        "        tau: temperature\n",
        "        \"\"\"\n",
        "        # TODO approbximate probability by counters\n",
        "        \n",
        "        P_abc = self.proba[a, b, c] + self.delta\n",
        "        ab = [item for item in self.proba.keys() if item[0] == a \\\n",
        "              and item[1] == b]\n",
        "        P_ab = sum([self.proba[item] for item in ab]) + self.delta\n",
        "        n = 1/tau        \n",
        "        result = (P_abc ** n) / (P_ab ** n) if P_abc > self.delta else 0 \n",
        "        return result\n",
        "    \n",
        "    def fit(self, text):\n",
        "        \"\"\"\n",
        "        train language model on text\n",
        "        text: list of lists\n",
        "        \"\"\"\n",
        "        self.text = text\n",
        "        for txt in text:\n",
        "            for i in range(len(txt) - 2):\n",
        "                self.proba[txt[i], txt[i+1], txt[i+2]] += 1\n",
        "                                       \n",
        "        # self.proba = # TODO count 3-grams in the text\n",
        "    \n",
        "        return self\n",
        "    \n",
        "lm = LM(vocab_size, 1).fit(tokenized_text)"
      ],
      "execution_count": 0,
      "outputs": []
    },
    {
      "cell_type": "code",
      "metadata": {
        "id": "vecEkHQj0PQ7",
        "colab_type": "code",
        "colab": {}
      },
      "source": [
        "def beam_search(input_seq, lm, max_len=10, k=5, tau=1):\n",
        "    \"\"\"\n",
        "    generate sequence from language model *lm* conditioned on input_seq\n",
        "    input_seq: sequence of token ids for conditioning\n",
        "    lm: language model\n",
        "    max_len: max generated sequence length\n",
        "    k: size of beam\n",
        "    tau: temperature\n",
        "    \"\"\"\n",
        "    # TODO store in beam tuples of current sequences and their log probabilities\n",
        "    \n",
        "   \n",
        "    if len(input_seq) >= 3:\n",
        "      prob = lm.get_proba(input_seq[0], input_seq[1] ,input_seq[2], tau)\n",
        "      if len(input_seq) > 3:\n",
        "        i = 1\n",
        "        while i + 2 < len(input_seq):\n",
        "          prob *= lm.get_proba(input_seq[i], input_seq[i + 1] ,input_seq[i + 2], tau)\n",
        "          i += 1\n",
        "      proba = enumerate(lm.infer(input_seq[-2], input_seq[-1], tau))\n",
        "      proba = sorted(proba, key=lambda x: x[1], reverse=True)[:k]\n",
        "      beam = {}\n",
        "      for i in range(k):\n",
        "        keys = list(input_seq)\n",
        "        keys.append(proba[i][0])\n",
        "        keys = tuple(list(keys))\n",
        "        beam[keys] = proba[i][1] * prob\n",
        "        \n",
        "    elif len(input_seq) == 2:\n",
        "      beam = [item for item in lm.proba.keys() if item[0] == input_seq[-2] \\\n",
        "                and item[1] == input_seq[-1]]\n",
        "      beam = {item: lm.get_proba(item[0], item[1], item[2], tau) for item in beam}   \n",
        "    else:\n",
        "        beam = [item for item in lm.proba.keys() if item[0] == input_seq[0]]\n",
        "        beam = {item: lm.get_proba(item[0], item[1], item[2], tau) for item in beam}   \n",
        "            \n",
        "    beam = sorted(beam.items(), key= lambda x: x[1], reverse=True)[:k]\n",
        "    beam = {item[0] : item[1] for item in beam}\n",
        "    \n",
        "    for i in range(max_len):\n",
        "      if sum ([1 for item in beam.keys() if item[-1] != '.']) == 0:\n",
        "        break\n",
        "      candidates = []\n",
        "      candidates_proba = []\n",
        "      for snt, snt_proba in beam.items():          \n",
        "        key = list(snt)\n",
        "        if sum(lm.infer(snt[-2], snt[-1], tau)) == 0 or lm.get_proba(snt[-3], snt[-2], snt[-1], tau) == 0:\n",
        "          if snt[-1] != '.':\n",
        "            key.append('.')\n",
        "          candidates.append(tuple(key))\n",
        "          candidates_proba.append(snt_proba)\n",
        "            # TODO process terminal token нет нужной триграммы\n",
        "        else:   \n",
        "          proba = {i:j for i, j in enumerate(lm.infer(snt[-2], snt[-1]))} # probability vector of the next token\n",
        "          best_k = sorted(proba.items(), key=lambda x: x[1], reverse=True)\n",
        "          for item in best_k:\n",
        "            candidates_proba.append(item[1] * snt_proba)\n",
        "            key = list(snt)\n",
        "            key.append(item[0])\n",
        "            candidates.append(tuple(key))\n",
        "      beam = {candidates[a]: candidates_proba[a] for a in range(len(candidates))}\n",
        "      beam = sorted(beam.items(), key=lambda x: x[1], reverse=True)[:k]\n",
        "      beam = {i[0]: i[1] for i in beam}\n",
        "    #  print(i, beam)\n",
        "                   \n",
        "    return beam\n",
        "   "
      ],
      "execution_count": 0,
      "outputs": []
    },
    {
      "cell_type": "code",
      "metadata": {
        "id": "rcC3hDJl25cw",
        "colab_type": "code",
        "outputId": "c2ff25d4-4a41-4e1d-d0c6-ed0c547bd124",
        "colab": {
          "base_uri": "https://localhost:8080/",
          "height": 184
        }
      },
      "source": [
        "input1 = 'horse '\n",
        "input1 = bpe.transform([input1])[0]\n",
        "result = beam_search(input1, lm, max_len=10, k=10, tau=0.1)\n",
        "# TODO print decoded generated strings and their probabilities\n",
        "\n",
        "for res in result.items():\n",
        "  print(bpe.decode(tuple([i for i in res[0] if i != '.'])), res[1])\n",
        "    "
      ],
      "execution_count": 148,
      "outputs": [
        {
          "output_type": "stream",
          "text": [
            "horse who had not but  3.417764459205561e-21\n",
            "horse would not began 2.7155020053582248e-21\n",
            "horse who had began to  2.685912601734959e-21\n",
            "horse who had began w 2.5435268734502138e-21\n",
            "horse who had began a 2.4852781664246364e-21\n",
            "horse who had began e 2.213450866971942e-21\n",
            "horse who had began o 1.9286794104024524e-21\n",
            "horse who had not been  1.893387384939158e-21\n",
            "horse who had bection  1.835230340237843e-21\n",
            "horse who had began s 1.8121819963512976e-21\n"
          ],
          "name": "stdout"
        }
      ]
    },
    {
      "cell_type": "code",
      "metadata": {
        "id": "-LHa-KbV25c0",
        "colab_type": "code",
        "outputId": "45c48e6f-22de-4e3c-ded1-bbbf8229c6f8",
        "colab": {
          "base_uri": "https://localhost:8080/",
          "height": 184
        }
      },
      "source": [
        "input1 = 'her'\n",
        "input1 = bpe.transform([input1])[0]\n",
        "result = beam_search(input1, lm, max_len=10, k=10, tau=0.1)\n",
        "# TODO print decoded generated strings and their probabilities\n",
        "\n",
        "for res in result.items():\n",
        "  print(bpe.decode(tuple([i for i in res[0] if i != '.'])), res[1])"
      ],
      "execution_count": 149,
      "outputs": [
        {
          "output_type": "stream",
          "text": [
            "here who had began  2.6774229294880305e-08\n",
            "here said not but  1.028099791898742e-08\n",
            "here who had befor  9.435789990162033e-09\n",
            "here who had not be 5.954611543549612e-09\n",
            "here said not been  5.695510031993617e-09\n",
            "here who had not be  4.2322032458286495e-09\n",
            "here said not beg 3.923401611712994e-09\n",
            "here who had not se 3.45478707330829e-09\n",
            "here said not bef 3.304324434322383e-09\n",
            "here said not bec 3.2772398078115443e-09\n"
          ],
          "name": "stdout"
        }
      ]
    },
    {
      "cell_type": "code",
      "metadata": {
        "id": "jh5TxF5U25c2",
        "colab_type": "code",
        "outputId": "8b5ed02a-be5f-4f8d-93fb-aeb3d2eb726a",
        "colab": {
          "base_uri": "https://localhost:8080/",
          "height": 184
        }
      },
      "source": [
        "input1 = 'what'\n",
        "input1 = bpe.transform([input1])[0]\n",
        "result = beam_search(input1, lm, max_len=10, k=10, tau=1)\n",
        "# TODO print decoded generated strings and their probabilities\n",
        "\n",
        "for res in result.items():\n",
        "  print(bpe.decode(tuple([i for i in res[0] if i != '.'])), res[1])"
      ],
      "execution_count": 150,
      "outputs": [
        {
          "output_type": "stream",
          "text": [
            "whatess marright of  4.8764265715746865e-08\n",
            "whatess marrights  4.414791522798949e-08\n",
            "whatess marrighter  4.339964547836255e-08\n",
            "whatess marrighten 4.1154836229481734e-08\n",
            "whatess marright and  3.739971226504315e-08\n",
            "whatess marrignich 3.59769268468042e-08\n",
            "whatess marright to  3.5953314553135396e-08\n",
            "whatess marright b 3.574668630857715e-08\n",
            "whatedid not began 3.569629189896679e-08\n",
            "whatess marrightl 3.1427329484331503e-08\n"
          ],
          "name": "stdout"
        }
      ]
    },
    {
      "cell_type": "code",
      "metadata": {
        "id": "62a1Cpyu25c3",
        "colab_type": "code",
        "outputId": "9744896c-e50b-40f7-feec-44e3f513a36e",
        "colab": {
          "base_uri": "https://localhost:8080/",
          "height": 184
        }
      },
      "source": [
        "input1 = 'gun '\n",
        "input1 = bpe.transform([input1])[0]\n",
        "result = beam_search(input1, lm, max_len=10, k=10, tau=0.1)\n",
        "# TODO print decoded generated strings and their probabilities\n",
        "\n",
        "for res in result.items():\n",
        "  print(bpe.decode(tuple([i for i in res[0] if i != '.'])), res[1])"
      ],
      "execution_count": 151,
      "outputs": [
        {
          "output_type": "stream",
          "text": [
            "gun and said not know 3.2027464526453345e-36\n",
            "gun and said not up  1.660597194750835e-36\n",
            "gun and said not but  1.4810064882361813e-36\n",
            "gun and said not kne 1.4781906704516927e-36\n",
            "gun and said not been  8.20454140508919e-37\n",
            "gun and said not und 7.883887164228773e-37\n",
            "gun and said not loo 6.735291230741083e-37\n",
            "gun and said not beg 5.651769690733994e-37\n",
            "gun and said not bef 4.7599717119199515e-37\n",
            "gun and said not bec 4.720955550346837e-37\n"
          ],
          "name": "stdout"
        }
      ]
    },
    {
      "cell_type": "code",
      "metadata": {
        "id": "FHPvasVG25c5",
        "colab_type": "code",
        "colab": {}
      },
      "source": [
        "def perplexity(snt, lm):\n",
        "    \"\"\"\n",
        "    snt: sequence of token ids\n",
        "    lm: language model\n",
        "    \"\"\"\n",
        "    result = #TODO perplexity for the sentence\n",
        "    return result\n",
        "\n",
        "perplexity(tokenized_text[0], lm)"
      ],
      "execution_count": 0,
      "outputs": []
    }
  ]
}