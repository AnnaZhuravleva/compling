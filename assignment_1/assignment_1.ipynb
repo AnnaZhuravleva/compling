{
 "cells": [
  {
   "cell_type": "markdown",
   "metadata": {},
   "source": [
    "# Assignment 1\n",
    "\n",
    "Using text http://www.gutenberg.org/files/2600/2600-0.txt\n",
    "1. Make text lowercase and remove all punctuation except spaces and dots.\n",
    "2. Tokenize text by BPE with vocab_size = 100\n",
    "3. Train 3-gram language model with laplace smoothing $\\delta=1$\n",
    "4. Using beam search with k=10 generate sequences of length=10 conditioned on provided inputs. Treat dots as terminal tokens.\n",
    "5. Calculate perplexity of the language model for the first sentence."
   ]
  },
  {
   "cell_type": "code",
   "execution_count": 2,
   "metadata": {},
   "outputs": [],
   "source": [
    "import string\n",
    "import re\n",
    "import collections\n",
    "from collections import Counter\n",
    "import nltk\n",
    "from sklearn.base import TransformerMixin\n",
    "import numpy as np"
   ]
  },
  {
   "cell_type": "code",
   "execution_count": 3,
   "metadata": {},
   "outputs": [
    {
     "data": {
      "text/plain": [
       "3227580"
      ]
     },
     "execution_count": 3,
     "metadata": {},
     "output_type": "execute_result"
    }
   ],
   "source": [
    "text = open('peace.txt', 'r', encoding='utf-8-sig').read()\n",
    "len(text)"
   ]
  },
  {
   "cell_type": "code",
   "execution_count": 4,
   "metadata": {
    "scrolled": true
   },
   "outputs": [
    {
     "data": {
      "text/plain": [
       "3130569"
      ]
     },
     "execution_count": 4,
     "metadata": {},
     "output_type": "execute_result"
    }
   ],
   "source": [
    "def preprocess_text(text):\n",
    "    punct = list(set(re.findall('\\W', text)))\n",
    "    punct.remove('.')\n",
    "    words = ''\n",
    "    for word in text.split():\n",
    "        for letter in word:\n",
    "            if letter not in punct:\n",
    "                words += letter\n",
    "        words += ' '\n",
    "    text = words.lower()\n",
    "        \n",
    "    # replace all punctuation except dots with spaces\n",
    "    # collapse multiple spaces into one '   ' -> ' '\n",
    "    return text\n",
    "\n",
    "\n",
    "text = preprocess_text(text)\n",
    "len(text)\n",
    "# assert len(text) == 3141169"
   ]
  },
  {
   "cell_type": "code",
   "execution_count": 5,
   "metadata": {},
   "outputs": [],
   "source": [
    "text = text.split('.')\n",
    "text = [x.strip() for x in text]"
   ]
  },
  {
   "cell_type": "code",
   "execution_count": 6,
   "metadata": {
    "scrolled": true
   },
   "outputs": [],
   "source": [
    "class BPE(TransformerMixin):\n",
    "    \n",
    "    def __init__(self, vocab_size=100):\n",
    "        super(BPE, self).__init__()\n",
    "        self.vocab_size = vocab_size\n",
    "        # index to token\n",
    "        self.itos = []\n",
    "        # token to index\n",
    "        self.stoi = {}\n",
    "        \n",
    "    def fit(self, text):\n",
    "        \"\"\"\n",
    "        fit itos and stoi\n",
    "        text: list of strings \n",
    "        \"\"\"\n",
    "        \n",
    "        # TODO\n",
    "        # tokenize text by symbols and fill in self.itos and self.stoi\n",
    "        self.itos = list(set([item for txt in text for item in set(txt)]))\n",
    "        self.stoi = {l: idx for idx, l in enumerate(self.itos)}\n",
    "        text = [[self.stoi[letter] for letter in txt] for txt in text]\n",
    "        \n",
    "        while len(self.itos) < self.vocab_size:\n",
    "            # TODO\n",
    "            # count bigram freqencies in the text\n",
    "            bigrams = collections.Counter()\n",
    "            for txt in text:\n",
    "                i = 0\n",
    "                while i + 1 < len(txt):\n",
    "                    bigrams[(txt[i], txt[i+1])] += 1\n",
    "                    i += 1\n",
    "                \n",
    "                \n",
    "            mc = bigrams.most_common(1)[0][0]\n",
    "            new_token = str(self.itos[int(mc[0])]) + str(self.itos[int(mc[1])])\n",
    "            new_id = len(self.itos)\n",
    "            \n",
    "            self.itos.append(new_token)\n",
    "            self.stoi[new_token] = new_id\n",
    "            \n",
    "            # find occurences of the new_token in the text and replace them with new_id\n",
    "            tmp = []\n",
    "            for txt in text:\n",
    "                tmp2 = []\n",
    "                i = 0\n",
    "                while i + 1 < len(txt):\n",
    "                    if new_token == self.itos[txt[i]] + self.itos[txt[i+1]]:\n",
    "                        tmp2.append(new_id)\n",
    "                        i += 2\n",
    "                    else:\n",
    "                        tmp2.append(txt[i])\n",
    "                        i += 1\n",
    "                tmp.append(tmp2)\n",
    "                    \n",
    "            text = tmp \n",
    "           \n",
    "        return self\n",
    "    \n",
    "    def transform(self, text):\n",
    "        \"\"\"\n",
    "        convert text to a sequence of token ids\n",
    "        text: list of strings\n",
    "        \"\"\" \n",
    "        max_size = max([len(tok) for tok in self.itos])\n",
    "        \n",
    "        new_text = []\n",
    "        for txt in text:\n",
    "            i = 0\n",
    "            new_txt = []\n",
    "            while i < len(txt):\n",
    "                hit = False\n",
    "                stop = i+max_size if len(txt) - (i + max_size) >= 0 else len(txt)\n",
    "                while hit == False and stop > i:\n",
    "                    if txt[i:stop] in self.itos:\n",
    "                        new_txt.append(self.stoi[txt[i:stop]])\n",
    "                        hit = True\n",
    "                        i = stop\n",
    "                    else:\n",
    "                        stop -= 1\n",
    "            new_text.append(new_txt)\n",
    "                                \n",
    "        text = new_text\n",
    "       # for token_id, token in enumerate(self.itos):\n",
    "            # find occurences of the token in the text and replace them with token_id\n",
    "          #  text = # TODO       \n",
    "        return text\n",
    "    \n",
    "    def decode_token(self, tok):\n",
    "        \"\"\"\n",
    "        tok: int or tuple\n",
    "        \"\"\"\n",
    "        result = self.itos[tok] if isinstance(tok, int) else [self.itos[i] for i in token]\n",
    "        return result\n",
    "            \n",
    "    def decode(self, text):\n",
    "        \"\"\"\n",
    "        convert token ids into text\n",
    "        \"\"\"\n",
    "        return ''.join(map(self.decode_token, text))\n",
    "        \n",
    "        \n",
    "vocab_size = 100\n",
    "bpe = BPE(vocab_size)\n",
    "tokenized_text = bpe.fit_transform(text)"
   ]
  },
  {
   "cell_type": "code",
   "execution_count": 7,
   "metadata": {},
   "outputs": [],
   "source": [
    "assert bpe.decode(tokenized_text[0]) == text[0]"
   ]
  },
  {
   "cell_type": "code",
   "execution_count": 8,
   "metadata": {},
   "outputs": [
    {
     "data": {
      "text/plain": [
       "'the project gutenberg ebook of war and peace by leo tolstoy this ebook is for the use of anyone anywhere at no cost and with almost no restrictions whatsoever'"
      ]
     },
     "execution_count": 8,
     "metadata": {},
     "output_type": "execute_result"
    }
   ],
   "source": [
    "bpe.decode(tokenized_text[0]) "
   ]
  },
  {
   "cell_type": "code",
   "execution_count": 9,
   "metadata": {},
   "outputs": [
    {
     "data": {
      "text/plain": [
       "'the project gutenberg ebook of war and peace by leo tolstoy this ebook is for the use of anyone anywhere at no cost and with almost no restrictions whatsoever'"
      ]
     },
     "execution_count": 9,
     "metadata": {},
     "output_type": "execute_result"
    }
   ],
   "source": [
    "text[0]"
   ]
  },
  {
   "cell_type": "code",
   "execution_count": 10,
   "metadata": {},
   "outputs": [
    {
     "name": "stdout",
     "output_type": "stream",
     "text": [
      "[65, 49, 47, 50, 8, 26, 10, 61, 29, 14, 55, 69, 20, 64, 73, 26, 20, 50, 50, 52, 0, 83, 3, 82, 0, 71, 49, 26, 35, 10, 57, 20, 66, 38, 26, 68, 55, 50, 38, 89, 50, 66, 58, 6, 60, 26, 20, 50, 50, 52, 0, 6, 60, 44, 75, 0, 65, 14, 53, 57, 83, 63, 21, 67, 57, 63, 21, 3, 28, 64, 57, 84, 19, 68, 10, 50, 89, 0, 71, 99, 58, 0, 87, 54, 50, 89, 0, 19, 68, 79, 89, 47, 6, 10, 55, 6, 67, 60, 3, 78, 55, 53, 50, 26, 9, 64]\n"
     ]
    }
   ],
   "source": [
    "print(tokenized_text[0])"
   ]
  },
  {
   "cell_type": "code",
   "execution_count": 48,
   "metadata": {},
   "outputs": [
    {
     "data": {
      "text/plain": [
       "0.31179185900125894"
      ]
     },
     "execution_count": 48,
     "metadata": {},
     "output_type": "execute_result"
    }
   ],
   "source": [
    "start_token = vocab_size\n",
    "end_token = vocab_size + 1\n",
    "        \n",
    "    \n",
    "class LM:\n",
    "    \n",
    "    def __init__(self, vocab_size, delta=1):\n",
    "        self.delta = delta\n",
    "        self.vocab_size = vocab_size + 2\n",
    "        self.proba = Counter() # TODO create array for storing 3-gram counters\n",
    "        \n",
    "    def infer(self, a, b, tau=1):\n",
    "        \"\"\"\n",
    "        return vector of probabilities of size self.vocab for 3-grams which start with (a,b) tokens\n",
    "        a: first token id\n",
    "        b: second token id\n",
    "        tau: temperature\n",
    "        \"\"\"\n",
    "        result = {}\n",
    "        for item in self.itos:\n",
    "            result[item] = self.get_proba(a, b, item, tau)\n",
    "        return result\n",
    "        \n",
    "    def get_proba(self, a, b, c, tau=1):\n",
    "        \"\"\"\n",
    "        get probability of 3-gram (a,b,c)\n",
    "        a: first token id\n",
    "        b: second token id\n",
    "        c: third token id\n",
    "        tau: temperature\n",
    "        \"\"\"\n",
    "        # TODO approximate probability by counters\n",
    "        \n",
    "        P_abc = self.proba[a, b, c] + self.delta\n",
    "        ab = [item for item in self.proba.keys() if item[0] == a and item[1] == b]\n",
    "        P_ab = sum([self.proba[item] for item in ab]) + self.delta\n",
    "        n = 1/tau        \n",
    "        result = (P_abc ** n) / (P_ab ** n) if P_abc > 0 else 0 \n",
    "        return result\n",
    "    \n",
    "    def fit(self, text):\n",
    "        \"\"\"\n",
    "        train language model on text\n",
    "        text: list of lists\n",
    "        \"\"\"\n",
    "        self.text = text\n",
    "        for txt in text:\n",
    "            for i in range(len(txt) - 2):\n",
    "                self.proba[txt[i], txt[i+1], txt[i+2]] += 1\n",
    "                                       \n",
    "        # self.proba = # TODO count 3-grams in the text\n",
    "    \n",
    "        return self\n",
    "    \n",
    "lm = LM(vocab_size, 1).fit(tokenized_text)\n",
    "\n",
    "lm.get_proba(65, 49, 47)"
   ]
  },
  {
   "cell_type": "code",
   "execution_count": 55,
   "metadata": {},
   "outputs": [],
   "source": [
    "def beam_search(input_seq, lm, max_len=10, k=5, tau=1):\n",
    "    \"\"\"\n",
    "    generate sequence from language model *lm* conditioned on input_seq\n",
    "    input_seq: sequence of token ids for conditioning\n",
    "    lm: language model\n",
    "    max_len: max generated sequence length\n",
    "    k: size of beam\n",
    "    tau: temperature\n",
    "    \"\"\"\n",
    "    # TODO store in beam tuples of current sequences and their log probabilities\n",
    "    \n",
    "    if len(input_seq) >= 2:\n",
    "        beam = [item for item in lm.proba.keys() if item[0] == input_seq[-2] and item[1] == input_seq[-1]]\n",
    "        beam = {item: lm.get_proba(item[0], item[1], item[2]) for item in beam}\n",
    "    else:\n",
    "        beam = [item for item in lm.proba.keys() if item[0] == input_seq[0]]\n",
    "        beam = {item: lm.get_proba(item[0], item[1], item[2])  for item in beam}\n",
    "    \n",
    "    print(beam)\n",
    "    \n",
    "    for i in range(max_len):\n",
    "        candidates = []\n",
    "        candidates_proba = []\n",
    "       # for snt, snt_proba in beam:\n",
    "       #     if # TODO process terminal token\n",
    "       #     else:    \n",
    "       #         proba = # probability vector of the next token\n",
    "       #         best_k = # top-k most probable tokens\n",
    "                # TODO update candidates' sequences and corresponding probabilities\n",
    "                \n",
    "       # beam = # select top-k most probable sequences from candidates\n",
    "    return beam"
   ]
  },
  {
   "cell_type": "code",
   "execution_count": 56,
   "metadata": {},
   "outputs": [
    {
     "name": "stdout",
     "output_type": "stream",
     "text": [
      "{(53, 57, 83): 0.07580477673935618, (53, 57, 6): 0.04132917964693666, (53, 57, 62): 0.006853582554517134, (53, 57, 71): 0.06770508826583593, (53, 57, 3): 0.09221183800623053, (53, 57, 44): 0.033229491173416406, (53, 57, 78): 0.007892004153686396, (53, 57, 1): 0.02679127725856698, (53, 57, 54): 0.0367601246105919, (53, 57, 21): 0.012876427829698858, (53, 57, 29): 0.017445482866043614, (53, 57, 99): 0.016822429906542057, (53, 57, 79): 0.009761163032191069, (53, 57, 90): 0.024299065420560748, (53, 57, 35): 0.01806853582554517, (53, 57, 58): 0.03842159916926272, (53, 57, 10): 0.02679127725856698, (53, 57, 49): 0.03842159916926272, (53, 57, 81): 0.03509865005192108, (53, 57, 26): 0.01391484942886812, (53, 57, 86): 0.037383177570093455, (53, 57, 28): 0.011214953271028037, (53, 57, 9): 0.008515057113187955, (53, 57, 65): 0.025129802699896158, (53, 57, 53): 0.0494288681204569, (53, 57, 20): 0.03489096573208723, (53, 57, 19): 0.01973001038421599, (53, 57, 55): 0.02118380062305296, (53, 57, 47): 0.008515057113187955, (53, 57, 87): 0.004153686396677051, (53, 57, 82): 0.007476635514018692, (53, 57, 52): 0.003115264797507788, (53, 57, 77): 0.01806853582554517, (53, 57, 92): 0.007892004153686396, (53, 57, 14): 0.006645898234683281, (53, 57, 63): 0.004569055036344756, (53, 57, 38): 0.01806853582554517, (53, 57, 85): 0.007268951194184839, (53, 57, 75): 0.0053997923156801665, (53, 57, 98): 0.013499480789200415, (53, 57, 88): 0.00809968847352025, (53, 57, 84): 0.005607476635514018, (53, 57, 37): 0.006438213914849429, (53, 57, 72): 0.0026998961578400833, (53, 57, 96): 0.003738317757009346, (53, 57, 69): 0.001869158878504673, (53, 57, 89): 0.004776739356178609, (53, 57, 50): 0.005607476635514018, (53, 57, 67): 0.0035306334371754933, (53, 57, 93): 0.0010384215991692627, (53, 57, 8): 0.001869158878504673, (53, 57, 11): 0.00020768431983385254, (53, 57, 94): 0.0006230529595015577, (53, 57, 27): 0.0004153686396677051, (53, 57, 0): 0.0004153686396677051, (53, 57, 13): 0.00020768431983385254, (53, 57, 97): 0.00020768431983385254}\n"
     ]
    }
   ],
   "source": [
    "input1 = 'horse '\n",
    "input1 = bpe.transform([input1])[0]\n",
    "result = beam_search(input1, lm, max_len=10, k=10, tau=0.1)\n",
    "# TODO print decoded generated strings and their probabilities\n",
    "    "
   ]
  },
  {
   "cell_type": "code",
   "execution_count": null,
   "metadata": {},
   "outputs": [],
   "source": [
    "input1 = 'her'\n",
    "input1 = bpe.transform([input1])[0]\n",
    "result = beam_search(input1, lm, max_len=10, k=10, tau=0.1)\n",
    "# TODO print decoded generated strings and their probabilities"
   ]
  },
  {
   "cell_type": "code",
   "execution_count": null,
   "metadata": {},
   "outputs": [],
   "source": [
    "input1 = 'what'\n",
    "input1 = bpe.transform([input1])[0]\n",
    "result = beam_search(input1, lm, max_len=10, k=10, tau=1)\n",
    "# TODO print decoded generated strings and their probabilities"
   ]
  },
  {
   "cell_type": "code",
   "execution_count": null,
   "metadata": {},
   "outputs": [],
   "source": [
    "input1 = 'gun '\n",
    "input1 = bpe.transform([input1])[0]\n",
    "result = beam_search(input1, lm, max_len=10, k=10, tau=0.1)\n",
    "# TODO print decoded generated strings and their probabilities"
   ]
  },
  {
   "cell_type": "code",
   "execution_count": null,
   "metadata": {},
   "outputs": [],
   "source": [
    "def perplexity(snt, lm):\n",
    "    \"\"\"\n",
    "    snt: sequence of token ids\n",
    "    lm: language model\n",
    "    \"\"\"\n",
    "    result = #TODO perplexity for the sentence\n",
    "    return result\n",
    "\n",
    "perplexity(tokenized_text[0], lm)"
   ]
  }
 ],
 "metadata": {
  "kernelspec": {
   "display_name": "Python 3",
   "language": "python",
   "name": "python3"
  },
  "language_info": {
   "codemirror_mode": {
    "name": "ipython",
    "version": 3
   },
   "file_extension": ".py",
   "mimetype": "text/x-python",
   "name": "python",
   "nbconvert_exporter": "python",
   "pygments_lexer": "ipython3",
   "version": "3.7.0"
  }
 },
 "nbformat": 4,
 "nbformat_minor": 2
}
