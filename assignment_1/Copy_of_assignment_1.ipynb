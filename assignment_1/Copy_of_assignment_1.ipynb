{
  "nbformat": 4,
  "nbformat_minor": 0,
  "metadata": {
    "kernelspec": {
      "display_name": "Python 3",
      "language": "python",
      "name": "python3"
    },
    "language_info": {
      "codemirror_mode": {
        "name": "ipython",
        "version": 3
      },
      "file_extension": ".py",
      "mimetype": "text/x-python",
      "name": "python",
      "nbconvert_exporter": "python",
      "pygments_lexer": "ipython3",
      "version": "3.7.0"
    },
    "colab": {
      "name": "Copy of assignment_1.ipynb",
      "provenance": [],
      "collapsed_sections": [],
      "include_colab_link": true
    }
  },
  "cells": [
    {
      "cell_type": "markdown",
      "metadata": {
        "id": "view-in-github",
        "colab_type": "text"
      },
      "source": [
        "<a href=\"https://colab.research.google.com/github/AnnaZhuravleva/compling/blob/master/assignment_1/Copy_of_assignment_1.ipynb\" target=\"_parent\"><img src=\"https://colab.research.google.com/assets/colab-badge.svg\" alt=\"Open In Colab\"/></a>"
      ]
    },
    {
      "cell_type": "markdown",
      "metadata": {
        "id": "x7LXW09O25cW",
        "colab_type": "text"
      },
      "source": [
        "# Assignment 1\n",
        "\n",
        "Using text http://www.gutenberg.org/files/2600/2600-0.txt\n",
        "1. Make text lowercase and remove all punctuation except spaces and dots.\n",
        "2. Tokenize text by BPE with vocab_size = 100\n",
        "3. Train 3-gram language model with laplace smoothing $\\delta=1$\n",
        "4. Using beam search with k=10 generate sequences of length=10 conditioned on provided inputs. Treat dots as terminal tokens.\n",
        "5. Calculate perplexity of the language model for the first sentence."
      ]
    },
    {
      "cell_type": "code",
      "metadata": {
        "id": "I0WD6tGX25cY",
        "colab_type": "code",
        "colab": {}
      },
      "source": [
        "import string\n",
        "import re\n",
        "import collections\n",
        "from collections import Counter\n",
        "import nltk\n",
        "from sklearn.base import TransformerMixin\n",
        "import numpy as np\n"
      ],
      "execution_count": 0,
      "outputs": []
    },
    {
      "cell_type": "code",
      "metadata": {
        "id": "AFz4R5wS4PVy",
        "colab_type": "code",
        "colab": {
          "base_uri": "https://localhost:8080/",
          "height": 122
        },
        "outputId": "5967cc5a-6871-4aba-cf8b-e6016b266eea"
      },
      "source": [
        "from google.colab import drive\n",
        "drive.mount('/content/drive')\n",
        "text = open('/content/drive/My Drive/Colab Notebooks/compling/assignment_1/peace.txt')"
      ],
      "execution_count": 4,
      "outputs": [
        {
          "output_type": "stream",
          "text": [
            "Go to this URL in a browser: https://accounts.google.com/o/oauth2/auth?client_id=947318989803-6bn6qk8qdgf4n4g3pfee6491hc0brc4i.apps.googleusercontent.com&redirect_uri=urn%3Aietf%3Awg%3Aoauth%3A2.0%3Aoob&scope=email%20https%3A%2F%2Fwww.googleapis.com%2Fauth%2Fdocs.test%20https%3A%2F%2Fwww.googleapis.com%2Fauth%2Fdrive%20https%3A%2F%2Fwww.googleapis.com%2Fauth%2Fdrive.photos.readonly%20https%3A%2F%2Fwww.googleapis.com%2Fauth%2Fpeopleapi.readonly&response_type=code\n",
            "\n",
            "Enter your authorization code:\n",
            "··········\n",
            "Mounted at /content/drive\n"
          ],
          "name": "stdout"
        }
      ]
    },
    {
      "cell_type": "code",
      "metadata": {
        "id": "JSr1Joz125cb",
        "colab_type": "code",
        "outputId": "6cace570-2c5c-4fc1-f18e-9a3408436f8a",
        "colab": {
          "base_uri": "https://localhost:8080/",
          "height": 34
        }
      },
      "source": [
        "\n",
        "text = text.read()\n",
        "len(text)"
      ],
      "execution_count": 5,
      "outputs": [
        {
          "output_type": "execute_result",
          "data": {
            "text/plain": [
              "3227581"
            ]
          },
          "metadata": {
            "tags": []
          },
          "execution_count": 5
        }
      ]
    },
    {
      "cell_type": "code",
      "metadata": {
        "scrolled": true,
        "id": "FSDV_zbZ25ce",
        "colab_type": "code",
        "outputId": "6e18f51d-9d9f-478b-98f9-79c49ee6d93a",
        "colab": {
          "base_uri": "https://localhost:8080/",
          "height": 34
        }
      },
      "source": [
        "def preprocess_text(text):\n",
        "    punct = list(set(re.findall('\\W', text)))\n",
        "    punct.remove('.')\n",
        "    words = ''\n",
        "    for word in text.split():\n",
        "        for letter in word:\n",
        "            if letter not in punct:\n",
        "                words += letter\n",
        "        words += ' '\n",
        "    text = words.lower()\n",
        "        \n",
        "    # replace all punctuation except dots with spaces\n",
        "    # collapse multiple spaces into one '   ' -> ' '\n",
        "    return text\n",
        "\n",
        "\n",
        "text = preprocess_text(text)\n",
        "len(text)\n",
        "# assert len(text) == 3141169"
      ],
      "execution_count": 6,
      "outputs": [
        {
          "output_type": "execute_result",
          "data": {
            "text/plain": [
              "3130570"
            ]
          },
          "metadata": {
            "tags": []
          },
          "execution_count": 6
        }
      ]
    },
    {
      "cell_type": "code",
      "metadata": {
        "id": "63n1ZAHN25cg",
        "colab_type": "code",
        "colab": {}
      },
      "source": [
        "text = text.split('.')\n",
        "text = [x.strip() for x in text]"
      ],
      "execution_count": 0,
      "outputs": []
    },
    {
      "cell_type": "code",
      "metadata": {
        "scrolled": true,
        "id": "BypVTf1z25ci",
        "colab_type": "code",
        "colab": {}
      },
      "source": [
        "class BPE(TransformerMixin):\n",
        "    \n",
        "    def __init__(self, vocab_size=100):\n",
        "        super(BPE, self).__init__()\n",
        "        self.vocab_size = vocab_size\n",
        "        # index to token\n",
        "        self.itos = []\n",
        "        # token to index\n",
        "        self.stoi = {}\n",
        "        \n",
        "    def fit(self, text):\n",
        "        \"\"\"\n",
        "        fit itos and stoi\n",
        "        text: list of strings \n",
        "        \"\"\"\n",
        "        \n",
        "        # TODO\n",
        "        # tokenize text by symbols and fill in self.itos and self.stoi\n",
        "        self.itos = list(set([item for txt in text for item in set(txt)]))\n",
        "        self.stoi = {l: idx for idx, l in enumerate(self.itos)}\n",
        "        text = [[self.stoi[letter] for letter in txt] for txt in text]\n",
        "        \n",
        "        while len(self.itos) < self.vocab_size:\n",
        "            # TODO\n",
        "            # count bigram freqencies in the text\n",
        "            bigrams = collections.Counter()\n",
        "            for txt in text:\n",
        "                i = 0\n",
        "                while i + 1 < len(txt):\n",
        "                    bigrams[(txt[i], txt[i+1])] += 1\n",
        "                    i += 1\n",
        "                \n",
        "                \n",
        "            mc = bigrams.most_common(1)[0][0]\n",
        "            new_token = str(self.itos[int(mc[0])]) + str(self.itos[int(mc[1])])\n",
        "            new_id = len(self.itos)\n",
        "            \n",
        "            self.itos.append(new_token)\n",
        "            self.stoi[new_token] = new_id\n",
        "            \n",
        "            # find occurences of the new_token in the text and replace them with new_id\n",
        "            tmp = []\n",
        "            for txt in text:\n",
        "                tmp2 = []\n",
        "                i = 0\n",
        "                while i + 1 < len(txt):\n",
        "                    if new_token == self.itos[txt[i]] + self.itos[txt[i+1]]:\n",
        "                        tmp2.append(new_id)\n",
        "                        i += 2\n",
        "                    else:\n",
        "                        tmp2.append(txt[i])\n",
        "                        i += 1\n",
        "                tmp.append(tmp2)\n",
        "                    \n",
        "            text = tmp \n",
        "           \n",
        "        return self\n",
        "    \n",
        "    def transform(self, text):\n",
        "        \"\"\"\n",
        "        convert text to a sequence of token ids\n",
        "        text: list of strings\n",
        "        \"\"\" \n",
        "        max_size = max([len(tok) for tok in self.itos])\n",
        "        \n",
        "        new_text = []\n",
        "        for txt in text:\n",
        "            i = 0\n",
        "            new_txt = []\n",
        "            while i < len(txt):\n",
        "                hit = False\n",
        "                stop = i+max_size if len(txt) - (i + max_size) >= 0 else len(txt)\n",
        "                while hit == False and stop > i:\n",
        "                    if txt[i:stop] in self.itos:\n",
        "                        new_txt.append(self.stoi[txt[i:stop]])\n",
        "                        hit = True\n",
        "                        i = stop\n",
        "                    else:\n",
        "                        stop -= 1\n",
        "            new_text.append(new_txt)\n",
        "                                \n",
        "        text = new_text\n",
        "       # for token_id, token in enumerate(self.itos):\n",
        "            # find occurences of the token in the text and replace them with token_id\n",
        "          #  text = # TODO       \n",
        "        return text\n",
        "    \n",
        "    def decode_token(self, tok):\n",
        "        \"\"\"\n",
        "        tok: int or tuple\n",
        "        \"\"\"\n",
        "        result = self.itos[tok] if isinstance(tok, int) else [self.itos[i] for i in token]\n",
        "        return result\n",
        "            \n",
        "    def decode(self, text):\n",
        "        \"\"\"\n",
        "        convert token ids into text\n",
        "        \"\"\"\n",
        "        return ''.join(map(self.decode_token, text))\n",
        "        \n",
        "        \n",
        "vocab_size = 100\n",
        "bpe = BPE(vocab_size)\n",
        "tokenized_text = bpe.fit_transform(text)"
      ],
      "execution_count": 0,
      "outputs": []
    },
    {
      "cell_type": "code",
      "metadata": {
        "id": "1X7yE3-R25ck",
        "colab_type": "code",
        "colab": {}
      },
      "source": [
        "assert bpe.decode(tokenized_text[0]) == text[0]"
      ],
      "execution_count": 0,
      "outputs": []
    },
    {
      "cell_type": "code",
      "metadata": {
        "id": "BWqPZVe625cm",
        "colab_type": "code",
        "outputId": "3c55196f-a282-4838-c57a-5d6b97202f21",
        "colab": {
          "base_uri": "https://localhost:8080/",
          "height": 34
        }
      },
      "source": [
        "bpe.decode(tokenized_text[0]) "
      ],
      "execution_count": 10,
      "outputs": [
        {
          "output_type": "execute_result",
          "data": {
            "text/plain": [
              "'the project gutenberg ebook of war and peace by leo tolstoy this ebook is for the use of anyone anywhere at no cost and with almost no restrictions whatsoever'"
            ]
          },
          "metadata": {
            "tags": []
          },
          "execution_count": 10
        }
      ]
    },
    {
      "cell_type": "code",
      "metadata": {
        "id": "oRJJ9agL25co",
        "colab_type": "code",
        "outputId": "4c079fa3-56d9-4f36-9a46-bc1fb0b1a62e",
        "colab": {
          "base_uri": "https://localhost:8080/",
          "height": 34
        }
      },
      "source": [
        "text[0]"
      ],
      "execution_count": 11,
      "outputs": [
        {
          "output_type": "execute_result",
          "data": {
            "text/plain": [
              "'the project gutenberg ebook of war and peace by leo tolstoy this ebook is for the use of anyone anywhere at no cost and with almost no restrictions whatsoever'"
            ]
          },
          "metadata": {
            "tags": []
          },
          "execution_count": 11
        }
      ]
    },
    {
      "cell_type": "code",
      "metadata": {
        "id": "-Zb1Xetj25cq",
        "colab_type": "code",
        "outputId": "e83e081a-53b0-4dc5-f5d9-7615a87a3791",
        "colab": {
          "base_uri": "https://localhost:8080/",
          "height": 54
        }
      },
      "source": [
        "print(tokenized_text[0])"
      ],
      "execution_count": 12,
      "outputs": [
        {
          "output_type": "stream",
          "text": [
            "[65, 46, 52, 16, 47, 45, 0, 61, 13, 40, 31, 69, 30, 64, 73, 45, 30, 16, 16, 28, 20, 83, 34, 82, 20, 71, 46, 45, 35, 0, 57, 30, 66, 2, 45, 68, 31, 16, 2, 89, 16, 66, 58, 3, 60, 45, 30, 16, 16, 28, 20, 3, 60, 49, 75, 20, 65, 40, 23, 57, 83, 63, 12, 67, 57, 63, 12, 34, 9, 64, 57, 84, 48, 68, 0, 16, 89, 20, 71, 99, 58, 20, 87, 56, 16, 89, 20, 48, 68, 79, 89, 52, 3, 0, 31, 3, 67, 60, 34, 78, 31, 23, 16, 45, 17, 64]\n"
          ],
          "name": "stdout"
        }
      ]
    },
    {
      "cell_type": "code",
      "metadata": {
        "id": "IDIVHbHb25cs",
        "colab_type": "code",
        "colab": {}
      },
      "source": [
        "start_token = vocab_size\n",
        "end_token = vocab_size + 1\n",
        "        \n",
        "    \n",
        "class LM:\n",
        "    \n",
        "    def __init__(self, vocab_size, delta=1):\n",
        "        self.delta = delta\n",
        "        self.vocab_size = vocab_size + 2\n",
        "        self.proba = Counter() # TODO create array for storing 3-gram counters\n",
        "        \n",
        "    def infer(self, a, b, tau=1):\n",
        "        \"\"\"\n",
        "        return vector of probabilities of size self.vocab for 3-grams which start with (a,b) tokens\n",
        "        a: first token id\n",
        "        b: second token id\n",
        "        tau: temperature\n",
        "        \"\"\"\n",
        "        result = collections.defaultdict()\n",
        "        for item in self.itos:\n",
        "            result[item] = self.get_proba(a, b, item, tau)\n",
        "        return result\n",
        "        \n",
        "    def get_proba(self, a, b, c, tau=1):\n",
        "        \"\"\"\n",
        "        get probability of 3-gram (a,b,c)\n",
        "        a: first token id\n",
        "        b: second token id\n",
        "        c: third token id\n",
        "        tau: temperature\n",
        "        \"\"\"\n",
        "        # TODO approximate probability by counters\n",
        "        \n",
        "        P_abc = self.proba[a, b, c] + self.delta\n",
        "        ab = [item for item in self.proba.keys() if item[0] == a \\\n",
        "              and item[1] == b]\n",
        "        P_ab = sum([self.proba[item] for item in ab]) + self.delta\n",
        "        n = 1/tau        \n",
        "        result = (P_abc ** n) / (P_ab ** n) if P_abc > 0 else 0 \n",
        "        return result\n",
        "    \n",
        "    def fit(self, text):\n",
        "        \"\"\"\n",
        "        train language model on text\n",
        "        text: list of lists\n",
        "        \"\"\"\n",
        "        self.text = text\n",
        "        self.itos = set([inner for sublist in text for inner in sublist])\n",
        "        for txt in text:\n",
        "            for i in range(len(txt) - 2):\n",
        "                self.proba[txt[i], txt[i+1], txt[i+2]] += 1\n",
        "                                       \n",
        "        # self.proba = # TODO count 3-grams in the text\n",
        "    \n",
        "        return self\n",
        "    \n",
        "lm = LM(vocab_size, 1).fit(tokenized_text)"
      ],
      "execution_count": 0,
      "outputs": []
    },
    {
      "cell_type": "code",
      "metadata": {
        "id": "HEHzaIb125cu",
        "colab_type": "code",
        "colab": {}
      },
      "source": [
        "def beam_search(input_seq, lm, max_len=10, k=5, tau=1):\n",
        "    \"\"\"\n",
        "    generate sequence from language model *lm* conditioned on input_seq\n",
        "    input_seq: sequence of token ids for conditioning\n",
        "    lm: language model\n",
        "    max_len: max generated sequence length\n",
        "    k: size of beam\n",
        "    tau: temperature\n",
        "    \"\"\"\n",
        "    # TODO store in beam tuples of current sequences and their log probabilities\n",
        "    \n",
        "    if len(input_seq) >= 2:\n",
        "        beam = [item for item in lm.proba.keys() if item[0] == input_seq[-2] \\\n",
        "                and item[1] == input_seq[-1]]\n",
        "        beam = {item: lm.get_proba(item[0], item[1], item[2]) for item in beam}\n",
        "    else:\n",
        "        beam = [item for item in lm.proba.keys() if item[0] == input_seq[0]]\n",
        "        beam = {item: lm.get_proba(item[0], item[1], item[2])  for item in beam}\n",
        "        \n",
        "    beam = sorted(beam.items(), key= lambda x: x[1], reverse=True)[:k]\n",
        "    beam = {item[0] : item[1] for item in beam}\n",
        "    \n",
        "    for i in range(max_len):\n",
        "        candidates = []\n",
        "        candidates_proba = []\n",
        "        for snt, snt_proba in beam.items():\n",
        "            # if # TODO process terminal token нет нужной триграммы\n",
        "            # else:    \n",
        "            proba = lm.infer(snt[0], snt[1]) # probability vector of the next token\n",
        "            best_k = sorted(proba.items(), key=lambda x: x[1], reverse=True)\n",
        "            for k in best_k:\n",
        "              candidates_proba.append(k[1] * snt_proba)\n",
        "              key = list(snt)\n",
        "              key.append(k[0])\n",
        "              candidates.append(tuple(key))\n",
        "        beam = {}\n",
        "        for a in range(len(candidates)):\n",
        "          beam[candidates[a]] = candidates_proba[a]\n",
        "        beam = sorted(beam.items(), key=lambda x: x[1], reverse=True)[:5]\n",
        "        beam = {i[0]: i[1] for i in beam}\n",
        "        print (beam)            \n",
        "    return beam"
      ],
      "execution_count": 0,
      "outputs": []
    },
    {
      "cell_type": "code",
      "metadata": {
        "id": "rcC3hDJl25cw",
        "colab_type": "code",
        "outputId": "a128ce99-5f75-4819-a536-95fe5200496b",
        "colab": {
          "base_uri": "https://localhost:8080/",
          "height": 207
        }
      },
      "source": [
        "input1 = 'horse '\n",
        "input1 = bpe.transform([input1])[0]\n",
        "result = beam_search(input1, lm, max_len=10, k=10, tau=0.1)\n",
        "# TODO print decoded generated strings and their probabilities\n",
        "    "
      ],
      "execution_count": 138,
      "outputs": [
        {
          "output_type": "stream",
          "text": [
            "{(23, 57, 34, 34): 0.008537821395459212, (23, 57, 34, 83): 0.007022118271321509, (23, 57, 83, 34): 0.007022118271321509, (23, 57, 34, 71): 0.006273859767000364, (23, 57, 71, 34): 0.006273859767000364}\n",
            "{(23, 57, 34, 34, 34): 0.0007888975334259446, (23, 57, 34, 34, 83): 0.0006488460611997656, (23, 57, 34, 83, 34): 0.0006488460611997656, (23, 57, 83, 34, 34): 0.0006488460611997656, (23, 57, 34, 34, 71): 0.0005797067268096266}\n",
            "{(23, 57, 34, 34, 34, 34): 7.289439418076108e-05, (23, 57, 34, 34, 83, 34): 5.995359161833383e-05, (23, 57, 34, 83, 34, 34): 5.995359161833383e-05, (23, 57, 83, 34, 34, 34): 5.995359161833383e-05, (23, 57, 34, 34, 34, 83): 5.9953591618333825e-05}\n",
            "{(23, 57, 34, 34, 34, 34, 34): 6.735466239709029e-06, (23, 57, 34, 34, 34, 34, 83): 5.539731783670796e-06, (23, 57, 34, 34, 83, 34, 34): 5.539731783670796e-06, (23, 57, 34, 83, 34, 34, 34): 5.539731783670796e-06, (23, 57, 83, 34, 34, 34, 34): 5.539731783670796e-06}\n",
            "{(23, 57, 34, 34, 34, 34, 34, 34): 6.223593182455394e-07, (23, 57, 34, 34, 34, 34, 34, 83): 5.118730572536346e-07, (23, 57, 34, 34, 34, 34, 83, 34): 5.118730572536346e-07, (23, 57, 34, 34, 83, 34, 34, 34): 5.118730572536346e-07, (23, 57, 34, 83, 34, 34, 34, 34): 5.118730572536346e-07}\n",
            "{(23, 57, 34, 34, 34, 34, 34, 34, 34): 5.7506207769780944e-08, (23, 57, 34, 34, 34, 34, 34, 34, 83): 4.7297240547729945e-08, (23, 57, 34, 34, 34, 34, 34, 83, 34): 4.7297240547729945e-08, (23, 57, 34, 34, 34, 34, 83, 34, 34): 4.7297240547729945e-08, (23, 57, 34, 34, 83, 34, 34, 34, 34): 4.7297240547729945e-08}\n",
            "{(23, 57, 34, 34, 34, 34, 34, 34, 34, 34): 5.313592702980174e-09, (23, 57, 34, 34, 34, 34, 34, 34, 34, 83): 4.3702807399792e-09, (23, 57, 34, 34, 34, 34, 34, 34, 83, 34): 4.3702807399792e-09, (23, 57, 34, 34, 34, 34, 34, 83, 34, 34): 4.3702807399792e-09, (23, 57, 34, 34, 34, 34, 83, 34, 34, 34): 4.3702807399792e-09}\n",
            "{(23, 57, 34, 34, 34, 34, 34, 34, 34, 34, 34): 4.909777310685584e-10, (23, 57, 34, 34, 34, 34, 34, 34, 34, 34, 83): 4.0381539229458966e-10, (23, 57, 34, 34, 34, 34, 34, 34, 34, 83, 34): 4.0381539229458966e-10, (23, 57, 34, 34, 34, 34, 34, 34, 83, 34, 34): 4.0381539229458966e-10, (23, 57, 34, 34, 34, 34, 34, 83, 34, 34, 34): 4.0381539229458966e-10}\n",
            "{(23, 57, 34, 34, 34, 34, 34, 34, 34, 34, 34, 34): 4.5366505466260075e-11, (23, 57, 34, 34, 34, 34, 34, 34, 34, 34, 34, 83): 3.731267640595772e-11, (23, 57, 34, 34, 34, 34, 34, 34, 34, 34, 83, 34): 3.731267640595772e-11, (23, 57, 34, 34, 34, 34, 34, 34, 34, 83, 34, 34): 3.731267640595772e-11, (23, 57, 34, 34, 34, 34, 34, 34, 83, 34, 34, 34): 3.731267640595772e-11}\n",
            "{(23, 57, 34, 34, 34, 34, 34, 34, 34, 34, 34, 34, 34): 4.191880177011157e-12, (23, 57, 34, 34, 34, 34, 34, 34, 34, 34, 34, 34, 83): 3.447703696148502e-12, (23, 57, 34, 34, 34, 34, 34, 34, 34, 34, 34, 83, 34): 3.447703696148502e-12, (23, 57, 34, 34, 34, 34, 34, 34, 34, 34, 83, 34, 34): 3.447703696148502e-12, (23, 57, 34, 34, 34, 34, 34, 34, 34, 83, 34, 34, 34): 3.447703696148502e-12}\n"
          ],
          "name": "stdout"
        }
      ]
    },
    {
      "cell_type": "code",
      "metadata": {
        "id": "-LHa-KbV25c0",
        "colab_type": "code",
        "colab": {}
      },
      "source": [
        "input1 = 'her'\n",
        "input1 = bpe.transform([input1])[0]\n",
        "result = beam_search(input1, lm, max_len=10, k=10, tau=0.1)\n",
        "# TODO print decoded generated strings and their probabilities"
      ],
      "execution_count": 0,
      "outputs": []
    },
    {
      "cell_type": "code",
      "metadata": {
        "id": "jh5TxF5U25c2",
        "colab_type": "code",
        "colab": {}
      },
      "source": [
        "input1 = 'what'\n",
        "input1 = bpe.transform([input1])[0]\n",
        "result = beam_search(input1, lm, max_len=10, k=10, tau=1)\n",
        "# TODO print decoded generated strings and their probabilities"
      ],
      "execution_count": 0,
      "outputs": []
    },
    {
      "cell_type": "code",
      "metadata": {
        "id": "62a1Cpyu25c3",
        "colab_type": "code",
        "colab": {}
      },
      "source": [
        "input1 = 'gun '\n",
        "input1 = bpe.transform([input1])[0]\n",
        "result = beam_search(input1, lm, max_len=10, k=10, tau=0.1)\n",
        "# TODO print decoded generated strings and their probabilities"
      ],
      "execution_count": 0,
      "outputs": []
    },
    {
      "cell_type": "code",
      "metadata": {
        "id": "FHPvasVG25c5",
        "colab_type": "code",
        "colab": {}
      },
      "source": [
        "def perplexity(snt, lm):\n",
        "    \"\"\"\n",
        "    snt: sequence of token ids\n",
        "    lm: language model\n",
        "    \"\"\"\n",
        "    result = #TODO perplexity for the sentence\n",
        "    return result\n",
        "\n",
        "perplexity(tokenized_text[0], lm)"
      ],
      "execution_count": 0,
      "outputs": []
    }
  ]
}