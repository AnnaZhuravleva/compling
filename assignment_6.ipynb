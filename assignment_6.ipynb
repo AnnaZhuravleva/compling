{
  "nbformat": 4,
  "nbformat_minor": 0,
  "metadata": {
    "kernelspec": {
      "display_name": "Python 3",
      "language": "python",
      "name": "python3"
    },
    "language_info": {
      "codemirror_mode": {
        "name": "ipython",
        "version": 3
      },
      "file_extension": ".py",
      "mimetype": "text/x-python",
      "name": "python",
      "nbconvert_exporter": "python",
      "pygments_lexer": "ipython3",
      "version": "3.7.6"
    },
    "colab": {
      "name": "assignment_6.ipynb",
      "provenance": [],
      "collapsed_sections": [],
      "include_colab_link": true
    },
    "widgets": {
      "application/vnd.jupyter.widget-state+json": {
        "323564e40a5447118f76126da8981d51": {
          "model_module": "@jupyter-widgets/controls",
          "model_name": "HBoxModel",
          "state": {
            "_view_name": "HBoxView",
            "_dom_classes": [],
            "_model_name": "HBoxModel",
            "_view_module": "@jupyter-widgets/controls",
            "_model_module_version": "1.5.0",
            "_view_count": null,
            "_view_module_version": "1.5.0",
            "box_style": "",
            "layout": "IPY_MODEL_3d3505bc8c0a409ebae7eb6b139f9109",
            "_model_module": "@jupyter-widgets/controls",
            "children": [
              "IPY_MODEL_b88b79ba4f3240c8aae7b1bb8a8b7a30",
              "IPY_MODEL_59254502d6034f88bf6ece736d60eef7"
            ]
          }
        },
        "eab315114d544a459a129b4c3e492ccc": {
          "model_module": "@jupyter-widgets/controls",
          "model_name": "HBoxModel",
          "state": {
            "_view_name": "HBoxView",
            "_dom_classes": [],
            "_model_name": "HBoxModel",
            "_view_module": "@jupyter-widgets/controls",
            "_model_module_version": "1.5.0",
            "_view_count": null,
            "_view_module_version": "1.5.0",
            "box_style": "",
            "layout": "IPY_MODEL_db012e81601444439b7a7e4b6c202e37",
            "_model_module": "@jupyter-widgets/controls",
            "children": [
              "IPY_MODEL_8aa7a5f5b0f74c179a1bc014edc87864",
              "IPY_MODEL_6d21a9f0c1034e7390bbf9369cefb84b"
            ]
          }
        }
      }
    }
  },
  "cells": [
    {
      "cell_type": "markdown",
      "metadata": {
        "id": "view-in-github",
        "colab_type": "text"
      },
      "source": [
        "<a href=\"https://colab.research.google.com/github/AnnaZhuravleva/compling/blob/master/assignment_6.ipynb\" target=\"_parent\"><img src=\"https://colab.research.google.com/assets/colab-badge.svg\" alt=\"Open In Colab\"/></a>"
      ]
    },
    {
      "cell_type": "markdown",
      "metadata": {
        "id": "DBjTdz7JOpij",
        "colab_type": "text"
      },
      "source": [
        "# Assignment 6\n",
        "\n",
        "[3 points] Delelop language model, which generates texts from wikipedia.   \n",
        "Use WikiText-2 dataset, also available in `torchtext.datasets`.  \n",
        "Use `sentencepiece` or `tokenizers` library for text tokenization. Pay attention to vocab size, probably subword tokens are better.    \n",
        "Your model should be autogressive RNN.  \n",
        "[1 point] Plot train and validation loss depending on the number of iterations of gradient decent.  \n",
        "[1 point] Try to use together (`sentencepiece` or `tokenizers`), `torchtext.datasets`, and `torchtext.data.BPTTIterator`  \n",
        "\n",
        "<img src=\"https://github.com/thedenaas/hse_seminars/blob/master/2019/seminar_9/images/lm.jpg?raw=1\" style=\"height:300px\">\n",
        "\n",
        "Text generation should be terminated when either max length is reached or terminal symbol is generated.  \n",
        "Explore several inference techniques:\n",
        "1. [1 point] Argmax\n",
        "1. [1 point] Beamsearch\n",
        "1. [1 point] Sampling from probabilty distribution with temperature\n",
        "1. [1 point] Nucleus sampling\n",
        "1. [1 point] Top-k sampling\n",
        "\n",
        "\n",
        "For every method you should provide implemented code and generated examples. Each example must contain at least 10 words (not subword tokens).\n",
        "\n",
        "Readings:\n",
        "https://arxiv.org/abs/1904.09751"
      ]
    },
    {
      "cell_type": "code",
      "metadata": {
        "id": "Tl7s_E1dOpiq",
        "colab_type": "code",
        "outputId": "efe50ab1-c655-45fc-f3df-28edff51be88",
        "colab": {
          "base_uri": "https://localhost:8080/",
          "height": 131
        }
      },
      "source": [
        "import torchtext\n",
        "import pandas as pd\n",
        "import numpy as np\n",
        "from sklearn.externals import joblib\n",
        "import nltk\n",
        "from nltk import sent_tokenize\n",
        "nltk.download('stopwords')\n",
        "nltk.download('punkt')\n",
        "import gensim\n",
        "import spacy\n",
        "from tqdm import tqdm_notebook\n",
        "\n",
        "from sklearn import metrics\n",
        "import re\n",
        "import torch as tt\n",
        "import torch.nn as nn\n",
        "import torch.nn.functional as F\n",
        "import torch.optim as optim\n",
        "from torch.autograd import Variable as V\n",
        "from torchtext.data import Field, LabelField, BucketIterator, ReversibleField\n",
        "from torchtext.datasets import WikiText2\n",
        "\n",
        "\n",
        "SEED = 42\n",
        "np.random.seed(SEED)\n",
        "np.random.seed(42)\n",
        "\n",
        "from torchtext import data\n",
        "import spacy\n",
        "\n",
        "\n",
        "spacy_en = spacy.load('en')\n",
        "spacy_en.remove_pipe('tagger')\n",
        "spacy_en.remove_pipe('ner')\n",
        "\n",
        "!pip install tokenizers\n",
        "from tokenizers import SentencePieceBPETokenizer\n",
        "\n",
        "def tokenizer(text): \n",
        "    return [tok.lemma_ for tok in spacy_en.tokenizer(text) if tok.text.isalpha()]"
      ],
      "execution_count": 54,
      "outputs": [
        {
          "output_type": "stream",
          "text": [
            "[nltk_data] Downloading package stopwords to /root/nltk_data...\n",
            "[nltk_data]   Package stopwords is already up-to-date!\n",
            "[nltk_data] Downloading package punkt to /root/nltk_data...\n",
            "[nltk_data]   Unzipping tokenizers/punkt.zip.\n",
            "Requirement already satisfied: tokenizers in /usr/local/lib/python3.6/dist-packages (0.2.1)\n"
          ],
          "name": "stdout"
        }
      ]
    },
    {
      "cell_type": "code",
      "metadata": {
        "id": "jeIO0GocWH9E",
        "colab_type": "code",
        "colab": {
          "base_uri": "https://localhost:8080/",
          "height": 189
        },
        "outputId": "4a0d856e-3dab-4c74-b266-ed86bf360e78"
      },
      "source": [
        "from google.colab import drive\n",
        "import sys\n",
        "drive.mount('/content/drive')\n",
        "project_path = '/content/drive/My Drive/Colab Notebooks/compling'\n",
        "sys.path.append(project_path)"
      ],
      "execution_count": 35,
      "outputs": [
        {
          "output_type": "stream",
          "text": [
            "Go to this URL in a browser: https://accounts.google.com/o/oauth2/auth?client_id=947318989803-6bn6qk8qdgf4n4g3pfee6491hc0brc4i.apps.googleusercontent.com&redirect_uri=urn%3aietf%3awg%3aoauth%3a2.0%3aoob&response_type=code&scope=email%20https%3a%2f%2fwww.googleapis.com%2fauth%2fdocs.test%20https%3a%2f%2fwww.googleapis.com%2fauth%2fdrive%20https%3a%2f%2fwww.googleapis.com%2fauth%2fdrive.photos.readonly%20https%3a%2f%2fwww.googleapis.com%2fauth%2fpeopleapi.readonly\n",
            "\n",
            "Enter your authorization code:\n",
            "··········\n",
            "Mounted at /content/drive\n"
          ],
          "name": "stdout"
        }
      ]
    },
    {
      "cell_type": "markdown",
      "metadata": {
        "id": "1QUHIYHYr2NZ",
        "colab_type": "text"
      },
      "source": [
        "**Нужно натренировать subwordtokenizer**\n",
        "\n",
        "- Почистим текст от лишних пробелов и символов unk\n",
        "- Добавим терминальный символ eos\n",
        "- Натренируем токенизатор на тренировочном датасете"
      ]
    },
    {
      "cell_type": "code",
      "metadata": {
        "id": "5SW7ImaiX9xA",
        "colab_type": "code",
        "colab": {}
      },
      "source": [
        "with open('/content/drive/My Drive/Colab Notebooks/compling/wikitext-2/wikitext-2/wiki.train.tokens') as train_file:\n",
        "    train_tokens = train_file.read()\n",
        "with open('/content/drive/My Drive/Colab Notebooks/compling/wikitext-2/wikitext-2/raw_train', 'w', encoding='utf-8') as f:\n",
        "    f.write(preproc_text(train_tokens))\n",
        "\n",
        "spbpetokenizer = SentencePieceBPETokenizer()\n",
        "spbpetokenizer.add_special_tokens([\"<eos>\", \"<unk>\"])\n",
        "spbpetokenizer.train('/content/drive/My Drive/Colab Notebooks/compling/wikitext-2/wikitext-2/raw_train', vocab_size=3000)\n",
        "\n",
        "\n",
        "def preproc_text(train_tokens):\n",
        "    train_tokens = train_tokens.replace('<unk>', '')\n",
        "    train_tokens = re.sub('(\\s)+', ' ', train_tokens)\n",
        "    train_tokens = re.sub(r'( )([.!?;:,\\)])', r'\\2', train_tokens)\n",
        "    train_tokens = re.sub(r'(\\\")(\\s*)(\\S+)(\\s*)(\\\")', r'\"\\3\"', train_tokens)\n",
        "    train_tokens = list(sent_tokenize(train_tokens))\n",
        "    train_tokens = [i[:-1]+' <eos>' for i in train_tokens]\n",
        "    return ' '.join(train_tokens)\n",
        "\n",
        "def bpe_tokenizer(text):\n",
        "    return spbpetokenizer.encode(preproc_text(text)).tokens"
      ],
      "execution_count": 0,
      "outputs": []
    },
    {
      "cell_type": "code",
      "metadata": {
        "id": "SDQUP2h3o2qH",
        "colab_type": "code",
        "colab": {
          "base_uri": "https://localhost:8080/",
          "height": 34
        },
        "outputId": "6196e4a0-d78d-4a3a-e24d-d38a606c347d"
      },
      "source": [
        "len(preproc_text(train_tokens)), len(train_tokens)"
      ],
      "execution_count": 146,
      "outputs": [
        {
          "output_type": "execute_result",
          "data": {
            "text/plain": [
              "(10558140, 10780437)"
            ]
          },
          "metadata": {
            "tags": []
          },
          "execution_count": 146
        }
      ]
    },
    {
      "cell_type": "code",
      "metadata": {
        "id": "-6-LRP65h6c5",
        "colab_type": "code",
        "outputId": "7d8aab1e-74d0-47fe-f045-3ddb0c1d6285",
        "colab": {
          "base_uri": "https://localhost:8080/",
          "height": 34
        }
      },
      "source": [
        "#TEXT = Field(include_lengths=False, batch_first=True, \n",
        "#             tokenize=tokenizer,\n",
        "#             eos_token='<eos>',\n",
        "#             lower=True,\n",
        "#             stop_words=nltk.corpus.stopwords.words('english')\n",
        "#            )\n",
        "\n",
        "TEXT = Field(include_lengths=False, batch_first=True, lower=True, tokenize=bpe_tokenizer)\n",
        "\n",
        "train, valid, test = WikiText2.splits(TEXT)\n",
        "TEXT.build_vocab(train, min_freq=5)\n",
        "len(TEXT.vocab.itos)"
      ],
      "execution_count": 147,
      "outputs": [
        {
          "output_type": "execute_result",
          "data": {
            "text/plain": [
              "160"
            ]
          },
          "metadata": {
            "tags": []
          },
          "execution_count": 147
        }
      ]
    },
    {
      "cell_type": "code",
      "metadata": {
        "id": "EfpZSfVjijdC",
        "colab_type": "code",
        "outputId": "51edbc4f-f06b-4f6e-b7d0-3d30db1c783a",
        "colab": {
          "base_uri": "https://localhost:8080/",
          "height": 1000
        }
      },
      "source": [
        "for i in range(len(TEXT.vocab.itos)):\n",
        "  print(i, TEXT.vocab.itos[i])"
      ],
      "execution_count": 151,
      "outputs": [
        {
          "output_type": "stream",
          "text": [
            "0 <unk>\n",
            "1 <pad>\n",
            "2 ▁\n",
            "3 t\n",
            "4 e\n",
            "5 s\n",
            "6 o\n",
            "7 i\n",
            "8 l\n",
            "9 c\n",
            "10 a\n",
            "11 u\n",
            "12 h\n",
            "13 r\n",
            "14 ▁the\n",
            "15 ▁s\n",
            "16 <eos>\n",
            "17 m\n",
            "18 ▁a\n",
            "19 er\n",
            "20 d\n",
            "21 y\n",
            "22 g\n",
            "23 ▁w\n",
            "24 ,\n",
            "25 n\n",
            "26 ed\n",
            "27 p\n",
            "28 v\n",
            "29 on\n",
            "30 es\n",
            "31 ▁p\n",
            "32 b\n",
            "33 he\n",
            "34 or\n",
            "35 ▁of\n",
            "36 ▁b\n",
            "37 ▁in\n",
            "38 ▁t\n",
            "39 ar\n",
            "40 ▁and\n",
            "41 ing\n",
            "42 en\n",
            "43 it\n",
            "44 at\n",
            "45 ▁f\n",
            "46 al\n",
            "47 w\n",
            "48 in\n",
            "49 ▁to\n",
            "50 an\n",
            "51 f\n",
            "52 ▁d\n",
            "53 k\n",
            "54 ▁m\n",
            "55 re\n",
            "56 le\n",
            "57 hi\n",
            "58 is\n",
            "59 1\n",
            "60 ▁n\n",
            "61 0\n",
            "62 ur\n",
            "63 nd\n",
            "64 ▁re\n",
            "65 st\n",
            "66 ▁=\n",
            "67 ▁\"\n",
            "68 ▁r\n",
            "69 el\n",
            "70 ac\n",
            "71 ▁o\n",
            "72 me\n",
            "73 ec\n",
            "74 2\n",
            "75 ▁for\n",
            "76 ti\n",
            "77 ▁@-@\n",
            "78 os\n",
            "79 ▁as\n",
            "80 j\n",
            "81 ▁h\n",
            "82 ta\n",
            "83 ion\n",
            "84 ▁is\n",
            "85 ia\n",
            "86 co\n",
            "87 un\n",
            "88 (\n",
            "89 tion\n",
            "90 @\n",
            "91 s,\n",
            "92 )\n",
            "93 ▁it\n",
            "94 ation\n",
            "95 ev\n",
            "96 ay\n",
            "97 op\n",
            "98 .\n",
            "99 ment\n",
            "100 ▁com\n",
            "101 cal\n",
            "102 ga\n",
            "103 de\n",
            "104 ak\n",
            "105 ame\n",
            "106 3\n",
            "107 eri\n",
            "108 ▁3\n",
            "109 ary\n",
            "110 ▁ch\n",
            "111 les\n",
            "112 lay\n",
            "113 ide\n",
            "114 red\n",
            "115 ▁un\n",
            "116 :\n",
            "117 lit\n",
            "118 \"\n",
            "119 ▁201\n",
            "120 ron\n",
            "121 nt\n",
            "122 ▁ga\n",
            "123 ▁game\n",
            "124 pan\n",
            "125 ega\n",
            "126 ▁series\n",
            "127 com\n",
            "128 ▁develop\n",
            "129 ja\n",
            "130 ria\n",
            "131 ▁ii\n",
            "132 ky\n",
            "133 ▁unit\n",
            "134 01\n",
            "135 tical\n",
            "136 ▁japan\n",
            "137 ▁dev\n",
            "138 -\n",
            "139 ▁val\n",
            "140 ▁iii\n",
            "141 ▁seri\n",
            "142 elop\n",
            "143 cles\n",
            "144 201\n",
            "145 ▁tac\n",
            "146 ii\n",
            "147 icles\n",
            "148 ▁chron\n",
            "149 ch\n",
            "150 ō\n",
            "151 ▁japan,\n",
            "152 ▁valkyria\n",
            "153 ▁chronicles\n",
            "154 @-@\n",
            "155 ▁tactical\n",
            "156 <\n",
            "157 japan\n",
            "158 val\n",
            "159 >\n"
          ],
          "name": "stdout"
        }
      ]
    },
    {
      "cell_type": "code",
      "metadata": {
        "id": "kkfsPtch3rzv",
        "colab_type": "code",
        "colab": {}
      },
      "source": [
        "device = tt.device('cuda') if tt.cuda.is_available() else tt.device('cpu')\n",
        "train_iter, valid_iter, test_iter = data.BPTTIterator.splits((train, valid, test),\n",
        "    batch_size=64,\n",
        "    bptt_len=40, \n",
        "    device=device,\n",
        "    repeat=False)"
      ],
      "execution_count": 0,
      "outputs": []
    },
    {
      "cell_type": "code",
      "metadata": {
        "id": "5f04YTZ04NXU",
        "colab_type": "code",
        "outputId": "b1686497-b3be-4692-ea80-210df7239478",
        "colab": {
          "base_uri": "https://localhost:8080/",
          "height": 34
        }
      },
      "source": [
        "b = next(iter(train_iter))\n",
        "vars(b).keys()"
      ],
      "execution_count": 153,
      "outputs": [
        {
          "output_type": "execute_result",
          "data": {
            "text/plain": [
              "dict_keys(['batch_size', 'dataset', 'fields', 'text', 'target'])"
            ]
          },
          "metadata": {
            "tags": []
          },
          "execution_count": 153
        }
      ]
    },
    {
      "cell_type": "markdown",
      "metadata": {
        "id": "B4q5yrng_-JO",
        "colab_type": "text"
      },
      "source": [
        "**Develop a model**\n",
        "--"
      ]
    },
    {
      "cell_type": "code",
      "metadata": {
        "id": "G-uqiSI742p7",
        "colab_type": "code",
        "colab": {}
      },
      "source": [
        " # as in https://github.com/thedenaas/hse_seminars/blob/master/2019/seminar_9/rnn.ipynb\n",
        "\n",
        "\n",
        "class MyModel(nn.Module):\n",
        "    \n",
        "    def __init__(self, vocab_size, embed_size, hidden_size):\n",
        "        super(MyModel, self).__init__()\n",
        "        self.embedding = nn.Embedding(vocab_size, embed_size)     \n",
        "        self.rnn = nn.LSTM(input_size=embed_size,\n",
        "                           hidden_size=hidden_size,\n",
        "                           bidirectional=True,\n",
        "                           batch_first=True,\n",
        "                          )      \n",
        "        self.fc = nn.Linear(hidden_size * 2, vocab_size)       \n",
        "        self.init_weights()\n",
        "        \n",
        "    def init_weights(self):\n",
        "        nn.init.uniform_(self.embedding.weight)\n",
        "        nn.init.xavier_uniform_(self.fc.weight)\n",
        "        nn.init.zeros_(self.fc.bias)\n",
        "        \n",
        "    def forward(self, batch):\n",
        "        x = batch.text.T if hasattr(batch, 'text') else batch\n",
        "        x = self.embedding(x)\n",
        "        x, _ = self.rnn(x)\n",
        "        x = self.fc(x)\n",
        "        return x.transpose(1,2)"
      ],
      "execution_count": 0,
      "outputs": []
    },
    {
      "cell_type": "code",
      "metadata": {
        "id": "3vAoCUtCCLbd",
        "colab_type": "code",
        "colab": {}
      },
      "source": [
        "def _train_epoch(model, iterator, optimizer, criterion, curr_epoch):\n",
        "\n",
        "    model.train()\n",
        "    history = []\n",
        "    running_loss = 0\n",
        "\n",
        "    n_batches = len(iterator)\n",
        "    iterator = tqdm_notebook(iterator, total=n_batches, desc=f'epoch {curr_epoch + 1}', leave=True)\n",
        "\n",
        "    for i, batch in enumerate(iterator):\n",
        "        optimizer.zero_grad()\n",
        "        pred = model(batch)\n",
        "        loss = criterion(pred, batch.target.T)\n",
        "        loss.backward()\n",
        "        optimizer.step()\n",
        "        history.append(loss.item())\n",
        "        curr_loss = loss.data.cpu().detach().item()\n",
        "        loss_smoothing = i / (i+1)\n",
        "        running_loss = loss_smoothing * running_loss + (1 - loss_smoothing) * curr_loss\n",
        "        iterator.set_postfix(loss='%.5f' % running_loss)\n",
        "    return running_loss, history\n",
        "\n",
        "def _test_epoch(model, iterator, criterion):\n",
        "    history = []\n",
        "    model.eval()\n",
        "    epoch_loss = 0\n",
        "\n",
        "    n_batches = len(iterator)\n",
        "    with tt.no_grad():\n",
        "        for batch in iterator:\n",
        "            pred = model(batch)\n",
        "            loss = criterion(pred, batch.target.T)\n",
        "            history.append(loss.item())\n",
        "            epoch_loss += loss.data.item()\n",
        "\n",
        "    return epoch_loss / n_batches, history\n",
        "\n",
        "\n",
        "def nn_train(model, train_iterator, valid_iterator, criterion, optimizer, n_epochs=100,\n",
        "          scheduler=None, early_stopping=0):\n",
        "\n",
        "    prev_loss = 100500\n",
        "    es_epochs = 0\n",
        "    best_epoch = None\n",
        "    history = pd.DataFrame()\n",
        "    train_history_all = []\n",
        "    test_history_all = []\n",
        "\n",
        "    for epoch in range(n_epochs):\n",
        "        print(f'Epoch: {epoch}')\n",
        "        train_loss, train_history = _train_epoch(model, train_iterator, optimizer, criterion, epoch)\n",
        "        valid_loss, test_history = _test_epoch(model, valid_iterator, criterion)\n",
        "        train_history_all += train_history\n",
        "        test_history_all += test_history\n",
        "        valid_loss = valid_loss\n",
        "        print('validation loss %.5f' % valid_loss)\n",
        "        record = {'epoch': epoch, 'train_loss': train_loss, 'valid_loss': valid_loss}\n",
        "        history = history.append(record, ignore_index=True)\n",
        "\n",
        "        if early_stopping > 0:\n",
        "            es_epochs = es_epochs + 1 if valid_loss > prev_loss else 0\n",
        "\n",
        "            if es_epochs >= early_stopping:\n",
        "                best_epoch = history[history.valid_loss == history.valid_loss.min()].iloc[0]\n",
        "                print('Early stopping! best epoch: %d val %.5f' % (best_epoch['epoch'], best_epoch['valid_loss']))\n",
        "                break\n",
        "\n",
        "            prev_loss = min(prev_loss, valid_loss)\n",
        "    return train_history_all, test_history_all"
      ],
      "execution_count": 0,
      "outputs": []
    },
    {
      "cell_type": "code",
      "metadata": {
        "id": "qKie-7sBPbqg",
        "colab_type": "code",
        "colab": {}
      },
      "source": [
        "model = MyModel(vocab_size=len(TEXT.vocab.itos),\n",
        "                embed_size=100,\n",
        "                hidden_size=128,\n",
        "               )\n",
        "\n",
        "optimizer = optim.Adam(model.parameters())\n",
        "scheduler = optim.lr_scheduler.CosineAnnealingLR(optimizer, T_max=5)\n",
        "criterion = nn.CrossEntropyLoss(ignore_index=1)"
      ],
      "execution_count": 0,
      "outputs": []
    },
    {
      "cell_type": "code",
      "metadata": {
        "id": "vf4NJkS8PgPp",
        "colab_type": "code",
        "outputId": "91982dd1-c19d-4986-8617-c2ef02d062e9",
        "colab": {
          "base_uri": "https://localhost:8080/",
          "height": 85,
          "referenced_widgets": [
            "323564e40a5447118f76126da8981d51",
            "eab315114d544a459a129b4c3e492ccc"
          ]
        }
      },
      "source": [
        "X1, X2 = nn_train(model, train_iter, valid_iter, criterion, optimizer, scheduler=scheduler, n_epochs=2, early_stopping=2)"
      ],
      "execution_count": 157,
      "outputs": [
        {
          "output_type": "stream",
          "text": [
            "Epoch: 0\n"
          ],
          "name": "stdout"
        },
        {
          "output_type": "display_data",
          "data": {
            "application/vnd.jupyter.widget-view+json": {
              "model_id": "323564e40a5447118f76126da8981d51",
              "version_minor": 0,
              "version_major": 2
            },
            "text/plain": [
              "HBox(children=(IntProgress(value=0, description='epoch 1', max=2565, style=ProgressStyle(description_width='in…"
            ]
          },
          "metadata": {
            "tags": []
          }
        },
        {
          "output_type": "stream",
          "text": [
            "validation loss 0.07840\n",
            "Epoch: 1\n"
          ],
          "name": "stdout"
        },
        {
          "output_type": "display_data",
          "data": {
            "application/vnd.jupyter.widget-view+json": {
              "model_id": "eab315114d544a459a129b4c3e492ccc",
              "version_minor": 0,
              "version_major": 2
            },
            "text/plain": [
              "HBox(children=(IntProgress(value=0, description='epoch 2', max=2565, style=ProgressStyle(description_width='in…"
            ]
          },
          "metadata": {
            "tags": []
          }
        },
        {
          "output_type": "stream",
          "text": [
            "validation loss 0.07293\n"
          ],
          "name": "stdout"
        }
      ]
    },
    {
      "cell_type": "code",
      "metadata": {
        "id": "V2P7tcN8t20V",
        "colab_type": "code",
        "outputId": "ba3d6faa-90f0-47d4-906a-88a326df1254",
        "colab": {
          "base_uri": "https://localhost:8080/",
          "height": 556
        }
      },
      "source": [
        "import matplotlib.pyplot as plt\n",
        "\n",
        "plt.figure(figsize=(8, 8))\n",
        "plt.subplots_adjust(bottom=.05, top=.9, left=.05, right=.95)\n",
        "\n",
        "plt.plot(range(len(X1)), X1, np.array(range(len(X2)))*10, X2)\n",
        "plt.xlabel('Iterations', fontsize=16)\n",
        "plt.ylabel('Loss', fontsize=16)\n",
        "plt.show()"
      ],
      "execution_count": 158,
      "outputs": [
        {
          "output_type": "display_data",
          "data": {
            "image/png": "[encoded data removed]",
            "text/plain": [
              "<Figure size 576x576 with 1 Axes>"
            ]
          },
          "metadata": {
            "tags": []
          }
        }
      ]
    },
    {
      "cell_type": "markdown",
      "metadata": {
        "id": "mp8uLCkVAHca",
        "colab_type": "text"
      },
      "source": [
        "**Predict sentences**\n",
        "--"
      ]
    },
    {
      "cell_type": "code",
      "metadata": {
        "id": "FtQ5G7U7RfZ-",
        "colab_type": "code",
        "colab": {}
      },
      "source": [
        "def build_sent(model, function, start, end='<eos>', max_len=55):\n",
        "    eos = TEXT.vocab.stoi[end]\n",
        "    with tt.no_grad():\n",
        "        seq = start\n",
        "        res = ''\n",
        "        while seq[-1] != eos and len(res.split('▁')) <= 10:\n",
        "          pred = model(tt.tensor([seq]))[:,:,-1]\n",
        "          seq.append(function(pred))\n",
        "          res = ''.join([TEXT.vocab.itos[v] for v in seq])\n",
        "    return re.sub('▁', ' ', res)\n"
      ],
      "execution_count": 0,
      "outputs": []
    },
    {
      "cell_type": "code",
      "metadata": {
        "id": "7I_LeftvcidD",
        "colab_type": "code",
        "outputId": "60079a6f-bcaa-4ddb-ebf5-a3f680d37f0e",
        "colab": {
          "base_uri": "https://localhost:8080/",
          "height": 391
        }
      },
      "source": [
        "def argmax_case(prob):\n",
        "    return tt.argmax(prob).item()\n",
        "for i in range(4, 20):\n",
        "    a = build_sent(model, argmax_case, start=[i])\n",
        "    print(a)\n",
        "print('---')\n",
        "for i in range(len(TEXT.vocab.itos)):\n",
        "    a = build_sent(model, argmax_case, start=[i])\n",
        "    if len(a.split(' ')) >= 5:\n",
        "        print(a)"
      ],
      "execution_count": 196,
      "outputs": [
        {
          "output_type": "stream",
          "text": [
            "e <eos>\n",
            "s <eos>\n",
            "oth <eos>\n",
            "illy <eos>\n",
            "lice <eos>\n",
            "ce <eos>\n",
            "ast contromage <eos>\n",
            "ulter <eos>\n",
            "hourn <eos>\n",
            "rom <eos>\n",
            " the contromage <eos>\n",
            " store <eos>\n",
            "\n",
            "mant <eos>\n",
            " an 10 <eos>\n",
            "ers <eos>\n",
            "---\n",
            " of the contromage <eos>\n",
            " that had contromage <eos>\n",
            " = =  <eos>\n",
            " as the contromage <eos>\n",
            " is an contromage <eos>\n"
          ],
          "name": "stdout"
        }
      ]
    },
    {
      "cell_type": "markdown",
      "metadata": {
        "id": "iDuvhtTr_Eu5",
        "colab_type": "text"
      },
      "source": [
        "The quality is bad\n",
        "\n",
        "I will improve as soon as possible:\n",
        "- other dictionary size\n",
        "- More epochs\n",
        "- Other inference techniques\n",
        "\n",
        "\n"
      ]
    },
    {
      "cell_type": "code",
      "metadata": {
        "id": "5IMchaCmVEB1",
        "colab_type": "code",
        "colab": {}
      },
      "source": [
        ""
      ],
      "execution_count": 0,
      "outputs": []
    }
  ]
}